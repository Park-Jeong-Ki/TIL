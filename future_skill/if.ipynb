{
 "cells": [
  {
   "cell_type": "code",
   "execution_count": 1,
   "metadata": {},
   "outputs": [
    {
     "name": "stdout",
     "output_type": "stream",
     "text": [
      "총 입장료는 47000원 입니다.\n"
     ]
    }
   ],
   "source": [
    "total_price = 0\n",
    "ages = [22,21,17,32,4,28,19,8]\n",
    "\n",
    "for age in ages:\n",
    "    if age >= 20:\n",
    "        total_price += 8000\n",
    "    elif 10 <= age <= 19:\n",
    "        total_price += 5000\n",
    "    elif age < 10:\n",
    "        total_price += 2500\n",
    "print(f\"총 입장료는 {total_price}원 입니다.\") "
   ]
  },
  {
   "cell_type": "code",
   "execution_count": 2,
   "metadata": {},
   "outputs": [
    {
     "name": "stdout",
     "output_type": "stream",
     "text": [
      "MVP로 선정되었습니다.\n"
     ]
    }
   ],
   "source": [
    "games = 12\n",
    "points = 25\n",
    "\n",
    "if (games >= 10 and points >= 20):\n",
    "    print(\"MVP로 선정되었습니다.\")"
   ]
  },
  {
   "cell_type": "code",
   "execution_count": 4,
   "metadata": {},
   "outputs": [
    {
     "name": "stdout",
     "output_type": "stream",
     "text": [
      "범인은 비글입니다!\n"
     ]
    }
   ],
   "source": [
    "suspects = [['거위','새','암컷'],['푸들','개','수컷'],['비글','개','암컷']]\n",
    "\n",
    "for suspect in suspects:\n",
    "    if suspect[1] == '개' and suspect[2] == '암컷':\n",
    "        print(f\"범인은 {suspect[0]}입니다!\")\n"
   ]
  },
  {
   "cell_type": "code",
   "execution_count": null,
   "metadata": {},
   "outputs": [],
   "source": []
  }
 ],
 "metadata": {
  "interpreter": {
   "hash": "12a158e423bf5bd320c3f47038dfb7975267827d4206b329d7f492237b5ce7d2"
  },
  "kernelspec": {
   "display_name": "Python 3.10.4 64-bit",
   "language": "python",
   "name": "python3"
  },
  "language_info": {
   "codemirror_mode": {
    "name": "ipython",
    "version": 3
   },
   "file_extension": ".py",
   "mimetype": "text/x-python",
   "name": "python",
   "nbconvert_exporter": "python",
   "pygments_lexer": "ipython3",
   "version": "3.10.4"
  },
  "orig_nbformat": 4
 },
 "nbformat": 4,
 "nbformat_minor": 2
}
