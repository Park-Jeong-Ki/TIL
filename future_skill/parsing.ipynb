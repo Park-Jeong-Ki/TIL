{
 "cells": [
  {
   "cell_type": "code",
   "execution_count": 6,
   "metadata": {},
   "outputs": [
    {
     "name": "stdout",
     "output_type": "stream",
     "text": [
      "True\n",
      "False\n",
      "True\n"
     ]
    }
   ],
   "source": [
    "def math(e):\n",
    "    try:\n",
    "        return True if eval(e) else False\n",
    "    except:\n",
    "        return False\n",
    "\n",
    "\n",
    "while True:\n",
    "    order = input('수식입력(1), 프로그램 종료(2) :')\n",
    "    if order == '1':\n",
    "        ex = input('수식을 입력하세요 :')\n",
    "        print(math(ex.replace('{','(').replace('}',')')))\n",
    "    else:\n",
    "        break\n"
   ]
  },
  {
   "cell_type": "code",
   "execution_count": 5,
   "metadata": {},
   "outputs": [
    {
     "name": "stdout",
     "output_type": "stream",
     "text": [
      "ANG\n",
      "False\n"
     ]
    }
   ],
   "source": [
    "def math(e):\n",
    "    try:\n",
    "        eval(e)\n",
    "        return True\n",
    "        \n",
    "    except:\n",
    "        return False\n",
    "    \n",
    "\n",
    "\n",
    "while True:\n",
    "    order = input('수식입력(1), 프로그램 종료(2) :')\n",
    "    if order == '1':\n",
    "        ex = input('수식을 입력하세요 :')\n",
    "        print(math(ex))\n",
    "    else:\n",
    "        break"
   ]
  },
  {
   "cell_type": "code",
   "execution_count": null,
   "metadata": {},
   "outputs": [],
   "source": []
  }
 ],
 "metadata": {
  "interpreter": {
   "hash": "12a158e423bf5bd320c3f47038dfb7975267827d4206b329d7f492237b5ce7d2"
  },
  "kernelspec": {
   "display_name": "Python 3.10.4 64-bit",
   "language": "python",
   "name": "python3"
  },
  "language_info": {
   "codemirror_mode": {
    "name": "ipython",
    "version": 3
   },
   "file_extension": ".py",
   "mimetype": "text/x-python",
   "name": "python",
   "nbconvert_exporter": "python",
   "pygments_lexer": "ipython3",
   "version": "3.10.4"
  },
  "orig_nbformat": 4
 },
 "nbformat": 4,
 "nbformat_minor": 2
}
