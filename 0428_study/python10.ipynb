{
 "cells": [
  {
   "cell_type": "code",
   "execution_count": 4,
   "metadata": {},
   "outputs": [
    {
     "name": "stdout",
     "output_type": "stream",
     "text": [
      "356\n"
     ]
    }
   ],
   "source": [
    "celsius = 180\n",
    "\n",
    "def celsius_to_fahrenheit(celsius):\n",
    "    return(int(celsius * 1.8 + 32))\n",
    "\n",
    "\n",
    "print(celsius_to_fahrenheit(celsius))"
   ]
  },
  {
   "cell_type": "code",
   "execution_count": 8,
   "metadata": {},
   "outputs": [
    {
     "name": "stdout",
     "output_type": "stream",
     "text": [
      "[1, 2, 3, 'a', 's', 34]\n"
     ]
    }
   ],
   "source": [
    "lst = [0, 1, False, 2, '', 3, 'a', 's', 34]\n",
    "\n",
    "def compact(lst):\n",
    "    for l in lst:\n",
    "        if l == False:\n",
    "            lst.remove(l)\n",
    "        elif l == '':\n",
    "            lst.remove(l)\n",
    "    return (lst)\n",
    "\n",
    "print(compact(lst))"
   ]
  },
  {
   "cell_type": "code",
   "execution_count": 9,
   "metadata": {},
   "outputs": [
    {
     "name": "stdout",
     "output_type": "stream",
     "text": [
      "3\n"
     ]
    }
   ],
   "source": [
    "lst = [1,1,2,1,2,3]\n",
    "\n",
    "def count_occurences(lst, val):\n",
    "    cnt = 0\n",
    "    for l in lst:\n",
    "        if l == val:\n",
    "            cnt += 1\n",
    "    return cnt\n",
    "\n",
    "print(count_occurences(lst,1))"
   ]
  },
  {
   "cell_type": "code",
   "execution_count": 12,
   "metadata": {},
   "outputs": [
    {
     "name": "stdout",
     "output_type": "stream",
     "text": [
      "3.141592653589793\n"
     ]
    }
   ],
   "source": [
    "import math\n",
    "degrees = 180\n",
    "\n",
    "def degrees_to_rads(degrees):\n",
    "    return math.radians(degrees)\n",
    "\n",
    "print(degrees_to_rads(degrees))"
   ]
  },
  {
   "cell_type": "code",
   "execution_count": 13,
   "metadata": {},
   "outputs": [
    {
     "name": "stdout",
     "output_type": "stream",
     "text": [
      "[3]\n"
     ]
    }
   ],
   "source": [
    "lst1 = [1,2,3]\n",
    "lst2 = [1,2,4]\n",
    "\n",
    "def difference(a,b) : \n",
    "    temp = []\n",
    "    for l in a:\n",
    "        if l in b:\n",
    "            pass\n",
    "        else :\n",
    "            temp.append(l)\n",
    "    return temp\n",
    "\n",
    "\n",
    "print(difference(lst1, lst2))"
   ]
  },
  {
   "cell_type": "code",
   "execution_count": 16,
   "metadata": {},
   "outputs": [
    {
     "name": "stdout",
     "output_type": "stream",
     "text": [
      "[1, 2, 3]\n"
     ]
    }
   ],
   "source": [
    "a = 123\n",
    "\n",
    "def digitize(n):\n",
    "    temp = list(str(n))\n",
    "    ret = []\n",
    "    for t in temp:\n",
    "        ret.append(int(t))\n",
    "    return ret\n",
    "\n",
    "print(digitize(a))"
   ]
  },
  {
   "cell_type": "code",
   "execution_count": 34,
   "metadata": {},
   "outputs": [
    {
     "name": "stdout",
     "output_type": "stream",
     "text": [
      "[2, 3]\n",
      "[3]\n",
      "[]\n"
     ]
    }
   ],
   "source": [
    "def drop(lst, n=1):\n",
    "    for i in range(n):\n",
    "        if len(lst) != 0:\n",
    "            lst.pop(0)\n",
    "        else :\n",
    "            pass\n",
    "    return lst\n",
    "\n",
    "print(drop([1,2,3]))\n",
    "print(drop([1,2,3],2))\n",
    "print(drop([1,2,3],42))"
   ]
  }
 ],
 "metadata": {
  "interpreter": {
   "hash": "51c34fa36eff769e6a148bf3054affc242b13740e4cb5cb23f0c7ec4f019dfc6"
  },
  "kernelspec": {
   "display_name": "Python 3.9.7 ('base')",
   "language": "python",
   "name": "python3"
  },
  "language_info": {
   "codemirror_mode": {
    "name": "ipython",
    "version": 3
   },
   "file_extension": ".py",
   "mimetype": "text/x-python",
   "name": "python",
   "nbconvert_exporter": "python",
   "pygments_lexer": "ipython3",
   "version": "3.9.7"
  },
  "orig_nbformat": 4
 },
 "nbformat": 4,
 "nbformat_minor": 2
}
