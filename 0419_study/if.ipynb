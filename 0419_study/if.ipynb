{
 "cells": [
  {
   "cell_type": "code",
   "execution_count": null,
   "metadata": {},
   "outputs": [],
   "source": [
    "while True:\n",
    "    h = float(input())\n",
    "    if h > 150:\n",
    "        print(True)\n",
    "    else :\n",
    "        print(False)"
   ]
  },
  {
   "cell_type": "code",
   "execution_count": null,
   "metadata": {},
   "outputs": [],
   "source": [
    "while True:\n",
    "    num = int(input())\n",
    "    if num % 3 == 0:\n",
    "        print('짝')\n",
    "    else :\n",
    "        print(num)"
   ]
  },
  {
   "cell_type": "code",
   "execution_count": 6,
   "metadata": {},
   "outputs": [
    {
     "name": "stdout",
     "output_type": "stream",
     "text": [
      "NO\n"
     ]
    }
   ],
   "source": [
    "i = 7\n",
    "\n",
    "if i % 6 == 0:\n",
    "    print(\"YES\")\n",
    "else : \n",
    "    print(\"NO\")"
   ]
  },
  {
   "cell_type": "code",
   "execution_count": 14,
   "metadata": {},
   "outputs": [
    {
     "name": "stdout",
     "output_type": "stream",
     "text": [
      "False\n",
      "False\n",
      "True\n",
      "True\n",
      "정수가 아닌수가 포함되어 있습니다.\n",
      "정수가 아닌수가 포함되어 있습니다.\n"
     ]
    },
    {
     "ename": "IndexError",
     "evalue": "list index out of range",
     "output_type": "error",
     "traceback": [
      "\u001b[1;31m---------------------------------------------------------------------------\u001b[0m",
      "\u001b[1;31mIndexError\u001b[0m                                Traceback (most recent call last)",
      "\u001b[1;32mc:\\Users\\Jeongkpa\\TIL\\0419_study\\if.ipynb Cell 4'\u001b[0m in \u001b[0;36m<cell line: 1>\u001b[1;34m()\u001b[0m\n\u001b[0;32m     <a href='vscode-notebook-cell:/c%3A/Users/Jeongkpa/TIL/0419_study/if.ipynb#ch0000003?line=11'>12</a>\u001b[0m     \u001b[39mprint\u001b[39m(\u001b[39m\"\u001b[39m\u001b[39m정수가 아닌수가 포함되어 있습니다.\u001b[39m\u001b[39m\"\u001b[39m)\n\u001b[0;32m     <a href='vscode-notebook-cell:/c%3A/Users/Jeongkpa/TIL/0419_study/if.ipynb#ch0000003?line=12'>13</a>\u001b[0m     \u001b[39mcontinue\u001b[39;00m\n\u001b[1;32m---> <a href='vscode-notebook-cell:/c%3A/Users/Jeongkpa/TIL/0419_study/if.ipynb#ch0000003?line=13'>14</a>\u001b[0m temp \u001b[39m=\u001b[39m \u001b[39mint\u001b[39m(num_list[\u001b[39m0\u001b[39;49m])\n\u001b[0;32m     <a href='vscode-notebook-cell:/c%3A/Users/Jeongkpa/TIL/0419_study/if.ipynb#ch0000003?line=14'>15</a>\u001b[0m ans \u001b[39m=\u001b[39m \u001b[39mNone\u001b[39;00m\n\u001b[0;32m     <a href='vscode-notebook-cell:/c%3A/Users/Jeongkpa/TIL/0419_study/if.ipynb#ch0000003?line=15'>16</a>\u001b[0m num_list \u001b[39m=\u001b[39m num_list[\u001b[39m1\u001b[39m:]\n",
      "\u001b[1;31mIndexError\u001b[0m: list index out of range"
     ]
    }
   ],
   "source": [
    "while True:\n",
    "    FLAG = True\n",
    "    num_list = list(input().split())\n",
    "    for n in num_list:\n",
    "        for x in list(n):\n",
    "            if x == '.':\n",
    "                FLAG = False\n",
    "                break\n",
    "            else:\n",
    "                continue\n",
    "    if FLAG == False:\n",
    "        print(\"정수가 아닌수가 포함되어 있습니다.\")\n",
    "        continue\n",
    "    temp = int(num_list[0])\n",
    "    ans = None\n",
    "    num_list = num_list[1:]\n",
    "    for n in num_list:\n",
    "        if temp + 1 == int(n):\n",
    "            ans = True\n",
    "            temp = int(n)\n",
    "        else :\n",
    "            ans = False\n",
    "            break\n",
    "    print(ans)"
   ]
  },
  {
   "cell_type": "code",
   "execution_count": null,
   "metadata": {},
   "outputs": [],
   "source": []
  }
 ],
 "metadata": {
  "interpreter": {
   "hash": "12a158e423bf5bd320c3f47038dfb7975267827d4206b329d7f492237b5ce7d2"
  },
  "kernelspec": {
   "display_name": "Python 3.10.4 64-bit",
   "language": "python",
   "name": "python3"
  },
  "language_info": {
   "codemirror_mode": {
    "name": "ipython",
    "version": 3
   },
   "file_extension": ".py",
   "mimetype": "text/x-python",
   "name": "python",
   "nbconvert_exporter": "python",
   "pygments_lexer": "ipython3",
   "version": "3.10.4"
  },
  "orig_nbformat": 4
 },
 "nbformat": 4,
 "nbformat_minor": 2
}
