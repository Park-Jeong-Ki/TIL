{
 "cells": [
  {
   "cell_type": "code",
   "execution_count": 1,
   "metadata": {},
   "outputs": [
    {
     "name": "stdout",
     "output_type": "stream",
     "text": [
      "5.0\n"
     ]
    }
   ],
   "source": [
    "print(10/2)"
   ]
  },
  {
   "cell_type": "code",
   "execution_count": 9,
   "metadata": {},
   "outputs": [
    {
     "name": "stdout",
     "output_type": "stream",
     "text": [
      "2020/09/01 11:34:27\n"
     ]
    }
   ],
   "source": [
    "year = '2020'\n",
    "month = '09'\n",
    "day = '01'\n",
    "hour = '11'\n",
    "minute = '34'\n",
    "second = '27'\n",
    " \n",
    "# print 함수 내부를 수정하세요\n",
    "print(year+'/'+month+'/'+day, end=' ')\n",
    "print(hour+':'+minute+':'+second, )"
   ]
  },
  {
   "cell_type": "code",
   "execution_count": 10,
   "metadata": {},
   "outputs": [
    {
     "name": "stdout",
     "output_type": "stream",
     "text": [
      "2020/09/01 11:34:27\n"
     ]
    }
   ],
   "source": [
    "year = '2020'\n",
    "month = '09'\n",
    "day = '01'\n",
    "hour = '11'\n",
    "minute = '34'\n",
    "second = '27'\n",
    "\n",
    "print(year, month, day, sep='/', end=' ') # sep을 통해 변수 사이 공백을 '/'로 대신함. end를 통해 print문 마지막을 공백처리.\n",
    "print(hour, minute, second, sep=':') # 윗 줄의 end 속성으로 인해 줄바꿈 없이 출력. sep을 통해 변수 사이 공백을':'로 대신함"
   ]
  },
  {
   "cell_type": "code",
   "execution_count": null,
   "metadata": {},
   "outputs": [],
   "source": []
  }
 ],
 "metadata": {
  "interpreter": {
   "hash": "12a158e423bf5bd320c3f47038dfb7975267827d4206b329d7f492237b5ce7d2"
  },
  "kernelspec": {
   "display_name": "Python 3.10.4 64-bit",
   "language": "python",
   "name": "python3"
  },
  "language_info": {
   "codemirror_mode": {
    "name": "ipython",
    "version": 3
   },
   "file_extension": ".py",
   "mimetype": "text/x-python",
   "name": "python",
   "nbconvert_exporter": "python",
   "pygments_lexer": "ipython3",
   "version": "3.10.4"
  },
  "orig_nbformat": 4
 },
 "nbformat": 4,
 "nbformat_minor": 2
}
