{
  "nbformat": 4,
  "nbformat_minor": 0,
  "metadata": {
    "colab": {
      "name": "0430_study.ipynb",
      "provenance": []
    },
    "kernelspec": {
      "name": "python3",
      "display_name": "Python 3"
    },
    "language_info": {
      "name": "python"
    }
  },
  "cells": [
    {
      "cell_type": "code",
      "execution_count": 1,
      "metadata": {
        "colab": {
          "base_uri": "https://localhost:8080/"
        },
        "id": "N6eK5ATfkyG4",
        "outputId": "4826b406-bb00-4f10-b56d-d4ffd9ff620f"
      },
      "outputs": [
        {
          "output_type": "execute_result",
          "data": {
            "text/plain": [
              "[1, 2, 3, 4]"
            ]
          },
          "metadata": {},
          "execution_count": 1
        }
      ],
      "source": [
        "lst = [1,2,3,4,5]\n",
        "\n",
        "def initial(lst):\n",
        "  return(lst[0:-1])\n",
        "\n",
        "initial(lst)"
      ]
    },
    {
      "cell_type": "code",
      "source": [
        "def initialize_list_with_range(end, start=0, step=1):\n",
        "  temp = []\n",
        "  for i in range(start, end+1, step):\n",
        "    temp.append(i)\n",
        "  return temp\n",
        "print(initialize_list_with_range(5))\n",
        "print(initialize_list_with_range(7,3))\n",
        "print(initialize_list_with_range(9,0,2))"
      ],
      "metadata": {
        "colab": {
          "base_uri": "https://localhost:8080/"
        },
        "id": "8UIAxlIAlBkm",
        "outputId": "bdaa58cb-ce83-4588-acec-4593ee15eda2"
      },
      "execution_count": 5,
      "outputs": [
        {
          "output_type": "stream",
          "name": "stdout",
          "text": [
            "[0, 1, 2, 3, 4, 5]\n",
            "[3, 4, 5, 6, 7]\n",
            "[0, 2, 4, 6, 8]\n"
          ]
        }
      ]
    },
    {
      "cell_type": "code",
      "source": [
        ""
      ],
      "metadata": {
        "id": "hZOpGwejm08n"
      },
      "execution_count": null,
      "outputs": []
    }
  ]
}