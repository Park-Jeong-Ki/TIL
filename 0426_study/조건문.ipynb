{
 "cells": [
  {
   "cell_type": "markdown",
   "metadata": {},
   "source": [
    "# 조건문"
   ]
  },
  {
   "cell_type": "code",
   "execution_count": 1,
   "metadata": {},
   "outputs": [],
   "source": [
    "#1 두 수 비교하기\n",
    "\n",
    "A,B = map(int, input().split())\n",
    "\n",
    "if A<B:\n",
    "  print('<')\n",
    "elif A==B:\n",
    "  print('==')\n",
    "else:\n",
    "  print('>')"
   ]
  },
  {
   "cell_type": "code",
   "execution_count": null,
   "metadata": {},
   "outputs": [],
   "source": [
    "# 2 시험성적\n",
    "\n",
    "Score = int(input())\n",
    "if 90 <= Score <= 100:\n",
    "  print('A')\n",
    "elif 80 <= Score <= 89:\n",
    "  print('B')\n",
    "elif 70 <= Score <= 79:\n",
    "  print('C')\n",
    "elif 60 <= Score <= 69:\n",
    "  print('D')\n",
    "else:\n",
    "  print('F')"
   ]
  },
  {
   "cell_type": "code",
   "execution_count": null,
   "metadata": {},
   "outputs": [],
   "source": [
    "# 3 윤년\n",
    "\n",
    "Year = int(input())\n",
    "\n",
    "if ( Year % 4 ) == 0:\n",
    "  if Year%100 !=0 or Year%400 == 0:\n",
    "      print('1')\n",
    "  else:\n",
    "      print('0')\n",
    "else:\n",
    "  print('0')"
   ]
  },
  {
   "cell_type": "code",
   "execution_count": null,
   "metadata": {},
   "outputs": [],
   "source": [
    "# 4 사분면 고르기\n",
    "\n",
    "X = int(input())\n",
    "Y = int(input())\n",
    "\n",
    "if X > 0:\n",
    "  if Y>0:\n",
    "    print('1')\n",
    "  elif Y<0:\n",
    "    print('4')\n",
    "elif X <0:\n",
    "  if Y>0:\n",
    "    print('2')\n",
    "  elif Y<0:\n",
    "    print('3')"
   ]
  },
  {
   "cell_type": "code",
   "execution_count": null,
   "metadata": {},
   "outputs": [],
   "source": [
    "#5 알람 시계\n",
    "\n",
    "time, min = map(int, input().split())\n",
    "\n",
    "if min >= 45:\n",
    "  print(time,(min-45))\n",
    "elif min < 45:\n",
    "  if time ==0:\n",
    "    print(23,(min+60-45))\n",
    "  else :\n",
    "    print(time-1,min+60-45)"
   ]
  },
  {
   "cell_type": "code",
   "execution_count": null,
   "metadata": {},
   "outputs": [],
   "source": [
    "#6 오븐 시계\n",
    "\n",
    "H, M = map(int, input().split())\n",
    "timer = int(input()) \n",
    "\n",
    "H += timer // 60\n",
    "M += timer % 60\n",
    "\n",
    "if M >= 60:\n",
    "    H += 1\n",
    "    M -= 60\n",
    "if H >= 24:\n",
    "    H -= 24\n",
    "\n",
    "print(H,M)"
   ]
  },
  {
   "cell_type": "code",
   "execution_count": null,
   "metadata": {},
   "outputs": [],
   "source": [
    "#7 주사위 세개\n",
    "\n",
    "A, B, C = map(int, input().split())\n",
    "\n",
    "if (A == B == C):\n",
    "    print(10000+ 1000*A)\n",
    "    exit(0)\n",
    "elif (A == B):\n",
    "    print(1000 + 100 * A)\n",
    "elif (B == C):\n",
    "    print(1000 + 100 * B)\n",
    "elif (C == A):\n",
    "    print(1000 + 100 * C)\n",
    "else:\n",
    "    M = max(A,B,C)\n",
    "    print(M * 100)\n"
   ]
  }
 ],
 "metadata": {
  "interpreter": {
   "hash": "12a158e423bf5bd320c3f47038dfb7975267827d4206b329d7f492237b5ce7d2"
  },
  "kernelspec": {
   "display_name": "Python 3.10.4 64-bit",
   "language": "python",
   "name": "python3"
  },
  "language_info": {
   "codemirror_mode": {
    "name": "ipython",
    "version": 3
   },
   "file_extension": ".py",
   "mimetype": "text/x-python",
   "name": "python",
   "nbconvert_exporter": "python",
   "pygments_lexer": "ipython3",
   "version": "3.10.4"
  },
  "orig_nbformat": 4
 },
 "nbformat": 4,
 "nbformat_minor": 2
}
