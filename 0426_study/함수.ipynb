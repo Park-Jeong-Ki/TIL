{
 "cells": [
  {
   "cell_type": "code",
   "execution_count": null,
   "metadata": {},
   "outputs": [],
   "source": [
    "# 정수 N개의 합\n",
    "def solve(a):\n",
    "    return sum(a)"
   ]
  },
  {
   "cell_type": "code",
   "execution_count": null,
   "metadata": {},
   "outputs": [],
   "source": [
    "#셀프 넘버 최종\n",
    "\n",
    "\n",
    "num_list = set(i for i in range(1,10001))\n",
    "not_self_list = set()\n",
    "for i in range(1,10001):\n",
    "  for j in str(i):\n",
    "    i += int(j)\n",
    "  not_self_list.add(i)\n",
    "\n",
    "self_list = sorted(num_list-not_self_list)\n",
    "for n in self_list:\n",
    "  print(n)"
   ]
  },
  {
   "cell_type": "code",
   "execution_count": null,
   "metadata": {},
   "outputs": [],
   "source": [
    "# 한 수\n",
    "\n",
    "# 한자리수, 두자리수는 모두 한수임 (등차0, 등차 1 )\n",
    "\n",
    "han_list = set(i for i in range(1,100)) # 1부터 99까지 일단 저장)\n",
    "\n",
    "N = int(input())\n",
    "for i in range(100, N+1):\n",
    "  str_list = list(str(i))\n",
    "  n1 = int(str_list[0])\n",
    "  n2 = int(str_list[1])\n",
    "  n3 = int(str_list[2])\n",
    "  if len(str_list) == 4:\n",
    "    n4 = int(str_list[3])\n",
    "\n",
    "    if n1-n2 == n2-n3 == n3-n4:\n",
    "      han_list.add(i)\n",
    "  else :\n",
    "    if n1-n2 == n2-n3:\n",
    "      han_list.add(i)\n",
    "\n",
    "if N <100:\n",
    "  print(N)\n",
    "else:\n",
    "  print(len(han_list))"
   ]
  }
 ],
 "metadata": {
  "language_info": {
   "name": "python"
  },
  "orig_nbformat": 4
 },
 "nbformat": 4,
 "nbformat_minor": 2
}
