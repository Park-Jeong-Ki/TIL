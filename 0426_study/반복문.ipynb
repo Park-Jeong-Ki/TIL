{
 "cells": [
  {
   "cell_type": "markdown",
   "metadata": {},
   "source": [
    "# 반복문"
   ]
  },
  {
   "cell_type": "code",
   "execution_count": null,
   "metadata": {},
   "outputs": [],
   "source": [
    "# 구구단\n",
    "\n",
    "X = int(input())\n",
    "for i in range(1,10):\n",
    "  print(f'{X} * {i} = {X*i}')"
   ]
  },
  {
   "cell_type": "code",
   "execution_count": null,
   "metadata": {},
   "outputs": [],
   "source": [
    "# A+B -3\n",
    "\n",
    "num = int(input())\n",
    "ans = []\n",
    "for i in range(num):\n",
    "  a,b = map(int,input().split())\n",
    "  ans.append(a+b)\n",
    "for a in ans:\n",
    "  print(a)"
   ]
  },
  {
   "cell_type": "code",
   "execution_count": null,
   "metadata": {},
   "outputs": [],
   "source": [
    "# 합\n",
    "\n",
    "num = int(input())\n",
    "ans = 0\n",
    "for i in range(1, num+1):\n",
    "  ans += i\n",
    "print(ans)"
   ]
  },
  {
   "cell_type": "code",
   "execution_count": null,
   "metadata": {},
   "outputs": [],
   "source": [
    "# 빠른 A+B\n",
    "\n",
    "#이제부터 input 대신 sys.stdin.readline을 사용?\n",
    "# 문자열을 저장하고 싶은 경우에는 .rstrip()을 추가로\n",
    "import sys\n",
    "num = int(input())\n",
    "for i in range(num):\n",
    "  a,b = map(int,sys.stdin.readline().split())\n",
    "  print(a+b)"
   ]
  },
  {
   "cell_type": "code",
   "execution_count": null,
   "metadata": {},
   "outputs": [],
   "source": [
    "# N 찍기\n",
    "\n",
    "num = int(input())\n",
    "for i in range(1,num+1):\n",
    "  print(i)"
   ]
  },
  {
   "cell_type": "code",
   "execution_count": null,
   "metadata": {},
   "outputs": [],
   "source": [
    "# 기찍 N\n",
    "\n",
    "num = int(input())\n",
    "for i in range(num,0, -1):\n",
    "  print(i)"
   ]
  },
  {
   "cell_type": "code",
   "execution_count": null,
   "metadata": {},
   "outputs": [],
   "source": [
    "# A+B - 7\n",
    "\n",
    "num = int(input())\n",
    "for i in range(1, num+1):\n",
    "  a,b = map(int,input().split())\n",
    "  print(f'Case #{i}: {a+b}')"
   ]
  },
  {
   "cell_type": "code",
   "execution_count": null,
   "metadata": {},
   "outputs": [],
   "source": [
    "# A+B - 8\n",
    "\n",
    "num = int(input())\n",
    "for i in range(1, num+1):\n",
    "  a,b = map(int,input().split())\n",
    "  print(f'Case #{i}: {a} + {b} = {a+b}')"
   ]
  },
  {
   "cell_type": "code",
   "execution_count": null,
   "metadata": {},
   "outputs": [],
   "source": [
    "# 별 찍기 -1\n",
    "num = int(input())\n",
    "for i in range(1,num+1):\n",
    "  print('*'*i)"
   ]
  },
  {
   "cell_type": "code",
   "execution_count": null,
   "metadata": {},
   "outputs": [],
   "source": [
    "# 별 찍기 - 2\n",
    "\n",
    "num = int(input())\n",
    "for i in range(1,num+1):\n",
    "  print(' '*(num-i)+'*'*i)"
   ]
  },
  {
   "cell_type": "code",
   "execution_count": null,
   "metadata": {},
   "outputs": [],
   "source": [
    "# X 보다 작은 수\n",
    "\n",
    "N,X = map(int,input().split())\n",
    "num_list= list(map(int,input().split()))\n",
    "ans = []\n",
    "for i in num_list:\n",
    "  if i < X:\n",
    "    ans.append(i)\n",
    "for a in range(len(ans)):\n",
    "  print(ans[a], end=' ')"
   ]
  },
  {
   "cell_type": "code",
   "execution_count": null,
   "metadata": {},
   "outputs": [],
   "source": [
    "# A+B - 5\n",
    "\n",
    "while True:\n",
    "    a,b = map(int,input().split())\n",
    "    if a==0 and b==0 :\n",
    "      break\n",
    "    else:\n",
    "      print(a+b)"
   ]
  },
  {
   "cell_type": "code",
   "execution_count": null,
   "metadata": {},
   "outputs": [],
   "source": [
    "# A+B -4\n",
    "while True:\n",
    "  try:\n",
    "    A,B = map(int,input().split())\n",
    "    print(A+B)\n",
    "  except:\n",
    "    break"
   ]
  },
  {
   "cell_type": "code",
   "execution_count": null,
   "metadata": {},
   "outputs": [],
   "source": [
    "# 더하기 사이클\n",
    "\n",
    "number = 0\n",
    "\n",
    "cnt = 0\n",
    "X = int(input())\n",
    "\n",
    "next_number = X\n",
    "\n",
    "while True:\n",
    "\n",
    "    if 0 <= next_number <= 9 :\n",
    "      #print(f'0 + {next_number} = {0+next_number}')\n",
    "      next_number = int(str(next_number)+str(next_number))\n",
    "      #print(f'next_number = {next_number}')\n",
    "      cnt +=1\n",
    "    elif 10 <= next_number <= 99:\n",
    "      num1, num2 = int(str(next_number)[0]), int(str(next_number)[1])\n",
    "      add_num = num1+num2\n",
    "      #print(f'{num1} + {num2} = {num1+num2}')\n",
    "      next_number = int(str(num2)+ str(str(add_num)[-1]))\n",
    "      #print(f'next_number = {next_number}')\n",
    "      cnt+=1\n",
    "    if next_number == X:\n",
    "      break\n",
    "print(cnt)"
   ]
  }
 ],
 "metadata": {
  "language_info": {
   "name": "python"
  },
  "orig_nbformat": 4
 },
 "nbformat": 4,
 "nbformat_minor": 2
}
