{
 "cells": [
  {
   "cell_type": "code",
   "execution_count": null,
   "metadata": {},
   "outputs": [],
   "source": [
    "# 최소 최대\n",
    "# N: N개의 정수\n",
    "N = int(input())\n",
    "\n",
    "num_list = list((map(int, input().split())))\n",
    "\n",
    "max , min = max(num_list), min(num_list)\n",
    "\n",
    "print(min,max)"
   ]
  },
  {
   "cell_type": "code",
   "execution_count": null,
   "metadata": {},
   "outputs": [],
   "source": [
    "# 최댓값\n",
    "\n",
    "N = 9\n",
    "num_list=[]\n",
    "for n in range(N):\n",
    "  num = int(input())\n",
    "  num_list.append(num)\n",
    "\n",
    "max = max(num_list)\n",
    "index = num_list.index(max) +1\n",
    "print(max)\n",
    "print(index)"
   ]
  },
  {
   "cell_type": "code",
   "execution_count": null,
   "metadata": {},
   "outputs": [],
   "source": [
    "# 숫자의 개수\n",
    "N = 3\n",
    "num_list= []\n",
    "num_dict = {}\n",
    "\n",
    "for i in range(10):\n",
    "  num_dict[i]=0\n",
    "  \n",
    "for n in range(N):\n",
    "  num = int(input())\n",
    "  num_list.append(num)\n",
    "ans = num_list[0] * num_list[1] * num_list[2]\n",
    "ans_list = list(str(ans))\n",
    "\n",
    "for w in ans_list:\n",
    "  num_dict[int(w)]  = num_dict[int(w)]+1\n",
    "\n",
    "for value in num_dict.values():\n",
    "  print(value)"
   ]
  },
  {
   "cell_type": "code",
   "execution_count": null,
   "metadata": {},
   "outputs": [],
   "source": [
    "# 나머지 \n",
    "\n",
    "N = 10\n",
    "num_list= []\n",
    "num_dict = {}\n",
    "remain_list = []\n",
    "for n in range(N):\n",
    "  num = int(input())\n",
    "  num_list.append(num)\n",
    "\n",
    "for num in num_list:\n",
    "  remainder = num % 42\n",
    "  if remainder not in remain_list:\n",
    "    remain_list.append(remainder)\n",
    "    #print(remainder)\n",
    "    num_dict[remainder] =1\n",
    "\n",
    "  else:\n",
    "    num_dict[remainder] += 1\n",
    "\n",
    "print(len(num_dict.keys()))"
   ]
  },
  {
   "cell_type": "code",
   "execution_count": null,
   "metadata": {},
   "outputs": [],
   "source": [
    "# 평균\n",
    "\n",
    "N = int(input())\n",
    "num_list = list(map(int,input().split()))\n",
    "\n",
    "max_score = max(num_list)\n",
    "\n",
    "new_num_list=[]\n",
    "for num in num_list:\n",
    "  new_num_list.append(num/max_score*100)\n",
    "\n",
    "print(sum(new_num_list)/N)"
   ]
  },
  {
   "cell_type": "code",
   "execution_count": null,
   "metadata": {},
   "outputs": [],
   "source": [
    "# OX 퀴즈\n",
    "\n",
    "N = int(input())\n",
    "\n",
    "for i in range(N):\n",
    "  score = 0\n",
    "  temp = 0\n",
    "  pre = None\n",
    "  ox_str = str(input())\n",
    "  ox_list = list(ox_str)\n",
    "  #print(ox_list)\n",
    "  for res in ox_list:\n",
    "    if res == 'O' and pre == 'O':  # 이전도 O 지금도 O\n",
    "      pre = 'O'\n",
    "      temp = temp+1 # 연속 O일때 더하는 값이 1씩 증가\n",
    "      score = score + temp\n",
    "    elif res == 'O': # 이전은 O가 아니지만 지금 O가 나온 경우\n",
    "      pre = 'O'\n",
    "      temp = 1\n",
    "      score = score+ temp\n",
    "    elif res == 'X': # 걍 X나오면 temp값은 0으로 초기화, 그리고 0을 더함\n",
    "      pre = 'X'\n",
    "      temp = 0\n",
    "      score = score + 0\n",
    "  print(score)"
   ]
  },
  {
   "cell_type": "code",
   "execution_count": null,
   "metadata": {},
   "outputs": [],
   "source": [
    "# 평균은 넘겠지,,,\n",
    "N = int(input())\n",
    "\n",
    "for i in range(N):\n",
    "  num_list = list(map(int,input().split()))\n",
    "  score_list = num_list[1:]\n",
    "  avg = sum(score_list) / num_list[0]\n",
    "  temp = 0\n",
    "  for score in score_list:\n",
    "    if score > avg:\n",
    "      temp += 1\n",
    "  print(f'{format(temp/num_list[0]*100, \".3f\")}%')"
   ]
  }
 ],
 "metadata": {
  "language_info": {
   "name": "python"
  },
  "orig_nbformat": 4
 },
 "nbformat": 4,
 "nbformat_minor": 2
}
