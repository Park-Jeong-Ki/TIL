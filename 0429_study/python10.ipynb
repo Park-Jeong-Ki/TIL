{
 "cells": [
  {
   "cell_type": "code",
   "execution_count": 2,
   "metadata": {},
   "outputs": [
    {
     "name": "stdout",
     "output_type": "stream",
     "text": [
      "[2, 4, 6]\n",
      "[3, 6]\n"
     ]
    }
   ],
   "source": [
    "lst = [1,2,3,4,5,6]\n",
    "\n",
    "def every_nth(lst, n):\n",
    "    temp = []\n",
    "    for i in range(len(lst)):\n",
    "        if (i+1) % n == 0:\n",
    "            temp.append(lst[i])\n",
    "    return temp\n",
    "\n",
    "print(every_nth(lst, 2))\n",
    "print(every_nth(lst, 3))"
   ]
  },
  {
   "cell_type": "code",
   "execution_count": 5,
   "metadata": {},
   "outputs": [
    {
     "name": "stdout",
     "output_type": "stream",
     "text": [
      "25\n"
     ]
    }
   ],
   "source": [
    "fahrenheit = 77\n",
    "\n",
    "def fahrenheit_to_celsius(fahrenheit):\n",
    "    return (int((fahrenheit-32)/1.8))\n",
    "print(fahrenheit_to_celsius(fahrenheit))"
   ]
  },
  {
   "cell_type": "code",
   "execution_count": 9,
   "metadata": {},
   "outputs": [
    {
     "data": {
      "text/plain": [
       "[1, 3, 5]"
      ]
     },
     "execution_count": 9,
     "metadata": {},
     "output_type": "execute_result"
    }
   ],
   "source": [
    "lst = [1,2,2,3,4,4,5]\n",
    "\n",
    "def filter_non_unique(lst):\n",
    "    dct = {}\n",
    "    ret = []\n",
    "    for l in lst:\n",
    "        if l not in dct:\n",
    "            dct.update({l : 1})\n",
    "        else:\n",
    "            dct[l] += 1\n",
    "    for k, v in dct.items():\n",
    "        if v == 1:\n",
    "            ret.append(k)\n",
    "    return ret\n",
    "\n",
    "filter_non_unique(lst)"
   ]
  },
  {
   "cell_type": "code",
   "execution_count": 10,
   "metadata": {},
   "outputs": [
    {
     "data": {
      "text/plain": [
       "[2, 4]"
      ]
     },
     "execution_count": 10,
     "metadata": {},
     "output_type": "execute_result"
    }
   ],
   "source": [
    "from collections import Counter\n",
    "lst = [1,2,2,3,4,4,5]\n",
    "\n",
    "def filter_unique(lst):\n",
    "    return [item for item, count in Counter(lst).items() if count > 1]\n",
    "\n",
    "\n",
    "filter_unique(lst)"
   ]
  },
  {
   "cell_type": "code",
   "execution_count": null,
   "metadata": {},
   "outputs": [],
   "source": []
  }
 ],
 "metadata": {
  "interpreter": {
   "hash": "12a158e423bf5bd320c3f47038dfb7975267827d4206b329d7f492237b5ce7d2"
  },
  "kernelspec": {
   "display_name": "Python 3.10.4 64-bit",
   "language": "python",
   "name": "python3"
  },
  "language_info": {
   "codemirror_mode": {
    "name": "ipython",
    "version": 3
   },
   "file_extension": ".py",
   "mimetype": "text/x-python",
   "name": "python",
   "nbconvert_exporter": "python",
   "pygments_lexer": "ipython3",
   "version": "3.10.4"
  },
  "orig_nbformat": 4
 },
 "nbformat": 4,
 "nbformat_minor": 2
}
