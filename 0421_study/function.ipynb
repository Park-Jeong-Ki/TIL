{
 "cells": [
  {
   "cell_type": "code",
   "execution_count": 4,
   "metadata": {},
   "outputs": [
    {
     "name": "stdout",
     "output_type": "stream",
     "text": [
      "하트 1 유죄!\n",
      "하트 2 유죄!\n",
      "하트 3 유죄!\n",
      "클로버 1 유죄!\n",
      "클로버 2 유죄!\n",
      "클로버 3 유죄!\n",
      "스페이드 1 유죄!\n",
      "스페이드 2 유죄!\n",
      "스페이드 3 유죄!\n"
     ]
    }
   ],
   "source": [
    "# 코드1\n",
    "def judge_cards(name) : \n",
    "    print(name + ' 1' +' 유죄!')\n",
    "    print(name + ' 2' +' 유죄!')\n",
    "    print(name + ' 3' +' 유죄!')\n",
    "judge_cards('하트')\n",
    "judge_cards('클로버')\n",
    "judge_cards('스페이드')"
   ]
  },
  {
   "cell_type": "code",
   "execution_count": 6,
   "metadata": {},
   "outputs": [
    {
     "name": "stdout",
     "output_type": "stream",
     "text": [
      "도도새\n"
     ]
    }
   ],
   "source": [
    "import random\n",
    "animals = ['체셔고양이','오리','도도새']\n",
    "\n",
    "choiceList = random.choice(animals)\n",
    "\n",
    "print(choiceList)"
   ]
  },
  {
   "cell_type": "code",
   "execution_count": 8,
   "metadata": {},
   "outputs": [
    {
     "name": "stdout",
     "output_type": "stream",
     "text": [
      "하트 유죄!\n"
     ]
    }
   ],
   "source": [
    "import random\n",
    "cards = ['하트','클로버','스페이드']\n",
    "\n",
    "card_list = random.choice(cards)\n",
    "\n",
    "print(card_list + ' 유죄!')"
   ]
  },
  {
   "cell_type": "code",
   "execution_count": null,
   "metadata": {},
   "outputs": [],
   "source": []
  }
 ],
 "metadata": {
  "interpreter": {
   "hash": "12a158e423bf5bd320c3f47038dfb7975267827d4206b329d7f492237b5ce7d2"
  },
  "kernelspec": {
   "display_name": "Python 3.10.4 64-bit",
   "language": "python",
   "name": "python3"
  },
  "language_info": {
   "codemirror_mode": {
    "name": "ipython",
    "version": 3
   },
   "file_extension": ".py",
   "mimetype": "text/x-python",
   "name": "python",
   "nbconvert_exporter": "python",
   "pygments_lexer": "ipython3",
   "version": "3.10.4"
  },
  "orig_nbformat": 4
 },
 "nbformat": 4,
 "nbformat_minor": 2
}
