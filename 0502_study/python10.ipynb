{
 "cells": [
  {
   "cell_type": "code",
   "execution_count": 1,
   "metadata": {},
   "outputs": [
    {
     "name": "stdout",
     "output_type": "stream",
     "text": [
      "1\n",
      "2\n",
      "3\n"
     ]
    }
   ],
   "source": [
    "itr = [1,2,3]\n",
    "fn = print\n",
    "\n",
    "def for_each(itr, fn):\n",
    "    for el in itr:\n",
    "        fn(el)\n",
    "\n",
    "for_each(itr, fn)"
   ]
  },
  {
   "cell_type": "code",
   "execution_count": 2,
   "metadata": {},
   "outputs": [
    {
     "name": "stdout",
     "output_type": "stream",
     "text": [
      "3\n",
      "2\n",
      "1\n"
     ]
    }
   ],
   "source": [
    "itr = [1,2,3]\n",
    "\n",
    "def for_each_right(itr, fn):\n",
    "    for el in itr[::-1]:\n",
    "        fn(el)\n",
    "\n",
    "for_each_right(itr, print)"
   ]
  },
  {
   "cell_type": "code",
   "execution_count": 3,
   "metadata": {},
   "outputs": [
    {
     "data": {
      "text/plain": [
       "False"
      ]
     },
     "execution_count": 3,
     "metadata": {},
     "output_type": "execute_result"
    }
   ],
   "source": [
    "lst = [1,2,3]\n",
    "\n",
    "def has_duplicates(lst):\n",
    "    temp =[]\n",
    "    ret = None\n",
    "    for el in lst:\n",
    "        if ret == True:\n",
    "            break\n",
    "        if el in temp:\n",
    "            ret =  True\n",
    "        else:\n",
    "            temp.append(el)\n",
    "            ret = False\n",
    "    return ret\n",
    "\n",
    "\n",
    "has_duplicates(lst)"
   ]
  },
  {
   "cell_type": "code",
   "execution_count": 4,
   "metadata": {},
   "outputs": [
    {
     "data": {
      "text/plain": [
       "1"
      ]
     },
     "execution_count": 4,
     "metadata": {},
     "output_type": "execute_result"
    }
   ],
   "source": [
    "lst = [1,2,3]\n",
    "\n",
    "def head(lst):\n",
    "    return lst[0]\n",
    "\n",
    "head(lst)"
   ]
  },
  {
   "cell_type": "code",
   "execution_count": 7,
   "metadata": {},
   "outputs": [
    {
     "name": "stdout",
     "output_type": "stream",
     "text": [
      "True\n",
      "True\n",
      "False\n",
      "False\n"
     ]
    }
   ],
   "source": [
    "def in_range(n, start, end=0):\n",
    "    ret = False\n",
    "    if end == 0:\n",
    "        for i in range(0, start, 1):\n",
    "            if i == n:\n",
    "                ret = True\n",
    "            else:\n",
    "                continue\n",
    "    if end != 0:\n",
    "        for i in range(start, end, 1):\n",
    "            if i == n:\n",
    "                ret = True\n",
    "            else :\n",
    "                continue\n",
    "    return ret\n",
    "\n",
    "print(in_range(3,2,5))\n",
    "print(in_range(3,4))\n",
    "print(in_range(2,3,5))\n",
    "print(in_range(3,2))"
   ]
  },
  {
   "cell_type": "code",
   "execution_count": null,
   "metadata": {},
   "outputs": [],
   "source": []
  }
 ],
 "metadata": {
  "interpreter": {
   "hash": "12a158e423bf5bd320c3f47038dfb7975267827d4206b329d7f492237b5ce7d2"
  },
  "kernelspec": {
   "display_name": "Python 3.10.4 64-bit",
   "language": "python",
   "name": "python3"
  },
  "language_info": {
   "codemirror_mode": {
    "name": "ipython",
    "version": 3
   },
   "file_extension": ".py",
   "mimetype": "text/x-python",
   "name": "python",
   "nbconvert_exporter": "python",
   "pygments_lexer": "ipython3",
   "version": "3.10.4"
  },
  "orig_nbformat": 4
 },
 "nbformat": 4,
 "nbformat_minor": 2
}
