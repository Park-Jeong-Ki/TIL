{
 "cells": [
  {
   "cell_type": "code",
   "execution_count": 2,
   "metadata": {},
   "outputs": [
    {
     "name": "stdout",
     "output_type": "stream",
     "text": [
      "도도새: 박하맛 앨리스 딸기맛\n",
      "도도새: 딸기맛 앨리스: 박하맛\n"
     ]
    }
   ],
   "source": [
    "dodo = '박하맛'\n",
    "alice = '딸기맛'\n",
    "\n",
    "print('도도새:',dodo,'앨리스',alice)\n",
    "\n",
    "dodo, alice = alice, dodo\n",
    "\n",
    "print('도도새:',dodo,'앨리스:',alice)"
   ]
  },
  {
   "cell_type": "code",
   "execution_count": 5,
   "metadata": {},
   "outputs": [
    {
     "name": "stdout",
     "output_type": "stream",
     "text": [
      "{'나이': 27, '직업': '병사', '번호': 9}\n"
     ]
    }
   ],
   "source": [
    "clover = {'나이':27,'직업':'병사'}\n",
    "\n",
    "clover.update({'번호': 9})\n",
    "\n",
    "print(clover)"
   ]
  },
  {
   "cell_type": "code",
   "execution_count": 6,
   "metadata": {},
   "outputs": [
    {
     "name": "stdout",
     "output_type": "stream",
     "text": [
      "9\n",
      "6\n",
      "6\n"
     ]
    }
   ],
   "source": [
    "clover = {'나이':27,'직업':'병사','번호':9}\n",
    "print(clover['번호'])\n",
    "clover['번호'] = 6\n",
    "print(clover['번호'])\n",
    "print(clover.get('번호'))"
   ]
  },
  {
   "cell_type": "code",
   "execution_count": 7,
   "metadata": {},
   "outputs": [
    {
     "name": "stdout",
     "output_type": "stream",
     "text": [
      "{'직업': '병사', '번호': 9}\n"
     ]
    }
   ],
   "source": [
    "clover = {'나이':27,'직업':'병사','번호':9}\n",
    "\n",
    "clover.pop('나이')\n",
    "\n",
    "print(clover)"
   ]
  },
  {
   "cell_type": "code",
   "execution_count": 9,
   "metadata": {},
   "outputs": [
    {
     "name": "stdout",
     "output_type": "stream",
     "text": [
      "{'스페이드1': '비빔라면', '다이아2': '매운라면'}\n",
      "{'스페이드1': '비빔라면', '다이아2': '매운라면', '클로버3': '카레라면'}\n",
      "{'스페이드1': '비빔라면', '다이아2': '짜장라면', '클로버3': '카레라면'}\n",
      "{'다이아2': '짜장라면', '클로버3': '카레라면'}\n"
     ]
    }
   ],
   "source": [
    "orders = {'스페이드1':'비빔라면','다이아2':'매운라면'}\n",
    "print(orders)\n",
    "\n",
    "orders.update({'클로버3':\"카레라면\"})\n",
    "print(orders)\n",
    "\n",
    "orders['다이아2'] = '짜장라면'\n",
    "print(orders)\n",
    "\n",
    "orders.pop('스페이드1')\n",
    "print(orders)\n"
   ]
  },
  {
   "cell_type": "code",
   "execution_count": null,
   "metadata": {},
   "outputs": [],
   "source": []
  }
 ],
 "metadata": {
  "interpreter": {
   "hash": "12a158e423bf5bd320c3f47038dfb7975267827d4206b329d7f492237b5ce7d2"
  },
  "kernelspec": {
   "display_name": "Python 3.10.4 64-bit",
   "language": "python",
   "name": "python3"
  },
  "language_info": {
   "codemirror_mode": {
    "name": "ipython",
    "version": 3
   },
   "file_extension": ".py",
   "mimetype": "text/x-python",
   "name": "python",
   "nbconvert_exporter": "python",
   "pygments_lexer": "ipython3",
   "version": "3.10.4"
  },
  "orig_nbformat": 4
 },
 "nbformat": 4,
 "nbformat_minor": 2
}
