{
 "cells": [
  {
   "cell_type": "markdown",
   "id": "e53c0ad9",
   "metadata": {},
   "source": [
    "# 이어드림스쿨 python basic review"
   ]
  },
  {
   "cell_type": "markdown",
   "id": "1a93fae1",
   "metadata": {},
   "source": [
    "## 딕셔너리(dict)\n",
    "> 사전을 떠올려봅시다. 사전을 구성하고 있는 항목은?    \n",
    "> - 단어 : 단어의 설명  \n",
    "\n",
    "> `key`와 `value`값을 쌍으로 저장가능 한 자료구조  \n",
    "> - `key` : `value`  \n",
    "> - **`{ }`** 중괄호로 묶어 사용한다.  \n",
    "> - 딕셔너리 요소 구분은 리스트와 마찬가지로 쉼표  "
   ]
  },
  {
   "cell_type": "code",
   "execution_count": 2,
   "id": "c547ff2d",
   "metadata": {
    "ExecuteTime": {
     "end_time": "2022-04-21T10:09:56.259339Z",
     "start_time": "2022-04-21T10:09:56.256077Z"
    }
   },
   "outputs": [],
   "source": [
    "test_list = [1, 2, 3, [4, 5]]\n",
    "# 리스트 특징\n",
    "# 순서가 있음 -> 인덱싱\n",
    "# 데이터의 타입에 제한이 없음"
   ]
  },
  {
   "cell_type": "code",
   "execution_count": 3,
   "id": "34296f5b",
   "metadata": {
    "ExecuteTime": {
     "end_time": "2022-04-21T10:10:02.187694Z",
     "start_time": "2022-04-21T10:10:02.169262Z"
    }
   },
   "outputs": [
    {
     "data": {
      "text/plain": [
       "[1, 2, 3, [4, 5]]"
      ]
     },
     "execution_count": 3,
     "metadata": {},
     "output_type": "execute_result"
    }
   ],
   "source": [
    "test_list"
   ]
  },
  {
   "cell_type": "markdown",
   "id": "bee27420",
   "metadata": {},
   "source": [
    "### 딕셔너리 생성"
   ]
  },
  {
   "cell_type": "code",
   "execution_count": 33,
   "id": "f86fcc96",
   "metadata": {
    "ExecuteTime": {
     "end_time": "2022-04-21T10:35:22.360776Z",
     "start_time": "2022-04-21T10:35:22.354846Z"
    }
   },
   "outputs": [],
   "source": [
    "# 값을 추가하면서 딕셔너리 생성\n",
    "wallet = {\n",
    "    'card':'SK카드',\n",
    "    'cash':75000,\n",
    "    'coin':{'500원':1,\n",
    "            '100원':1,},\n",
    "    'id':['주민등록증', '여권'],\n",
    "    'licence':'운전면허증'\n",
    "}\n",
    "\n",
    "# 중괄호 내 key : value 값을 전달하고 각 항목의 구분은 쉼표\n",
    "# 리스트와 마찬가지로 딕셔너리 내부에 리스트등 타 자료구조 저장 가능"
   ]
  },
  {
   "cell_type": "code",
   "execution_count": 8,
   "id": "9546fb15",
   "metadata": {
    "ExecuteTime": {
     "end_time": "2022-04-21T10:19:27.715534Z",
     "start_time": "2022-04-21T10:19:27.707002Z"
    }
   },
   "outputs": [
    {
     "data": {
      "text/plain": [
       "{'card': 'SK카드',\n",
       " 'cash': 75000,\n",
       " 'coin': {'500원': 1, '100원': 1},\n",
       " 'id': ['주민등록증', '여권'],\n",
       " 'licence': '운전면허증'}"
      ]
     },
     "execution_count": 8,
     "metadata": {},
     "output_type": "execute_result"
    }
   ],
   "source": [
    "# 딕셔너리 호출\n",
    "wallet"
   ]
  },
  {
   "cell_type": "markdown",
   "id": "ccb5a3a5",
   "metadata": {},
   "source": [
    "### 딕셔너리 갯수세기"
   ]
  },
  {
   "cell_type": "code",
   "execution_count": 6,
   "id": "5854cb34",
   "metadata": {
    "ExecuteTime": {
     "end_time": "2022-04-21T10:18:24.693356Z",
     "start_time": "2022-04-21T10:18:24.685862Z"
    }
   },
   "outputs": [
    {
     "data": {
      "text/plain": [
       "5"
      ]
     },
     "execution_count": 6,
     "metadata": {},
     "output_type": "execute_result"
    }
   ],
   "source": [
    "# 딕셔너리 갯수세기\n",
    "len(wallet)"
   ]
  },
  {
   "cell_type": "markdown",
   "id": "430e0132",
   "metadata": {},
   "source": [
    "### 딕셔너리 값에 접근하기"
   ]
  },
  {
   "cell_type": "code",
   "execution_count": 14,
   "id": "a0096b96",
   "metadata": {
    "ExecuteTime": {
     "end_time": "2022-04-21T10:23:09.737319Z",
     "start_time": "2022-04-21T10:23:09.728326Z"
    }
   },
   "outputs": [
    {
     "data": {
      "text/plain": [
       "'여권'"
      ]
     },
     "execution_count": 14,
     "metadata": {},
     "output_type": "execute_result"
    }
   ],
   "source": [
    "# key값으로 딕셔너리 값에 접근\n",
    "# 파이써닉한 코드\n",
    "wallet['id'][1]\n",
    "# 리스트에서 인덱스를 사용하였다면 딕셔너리는 key값을 전달하여 값에 접근합니다."
   ]
  },
  {
   "cell_type": "markdown",
   "id": "00bf9d53",
   "metadata": {},
   "source": [
    "### 딕셔너리 편집"
   ]
  },
  {
   "cell_type": "code",
   "execution_count": 17,
   "id": "025c2af2",
   "metadata": {
    "ExecuteTime": {
     "end_time": "2022-04-21T10:24:18.648683Z",
     "start_time": "2022-04-21T10:24:18.636536Z"
    }
   },
   "outputs": [
    {
     "data": {
      "text/plain": [
       "{'card': '삼성카드',\n",
       " 'cash': 75000,\n",
       " 'coin': {'500원': 1, '100원': 1},\n",
       " 'id': ['주민등록증', '여권'],\n",
       " 'licence': '운전면허증',\n",
       " 'point card': '해피포인트'}"
      ]
     },
     "execution_count": 17,
     "metadata": {},
     "output_type": "execute_result"
    }
   ],
   "source": [
    "# 딕셔너리에 point card key를 갖는 해피포인트 문자열을 값으로 저장\n",
    "wallet['card'] = '삼성카드'\n",
    "# key값이 숫자여도 관계없음\n",
    "wallet"
   ]
  },
  {
   "cell_type": "code",
   "execution_count": 18,
   "id": "88d8f6a5",
   "metadata": {
    "ExecuteTime": {
     "end_time": "2022-04-21T10:25:29.026513Z",
     "start_time": "2022-04-21T10:25:29.006351Z"
    }
   },
   "outputs": [
    {
     "data": {
      "text/plain": [
       "{'card': '삼성카드',\n",
       " 'cash': 75000,\n",
       " 'coin': {'500원': 1, '100원': 1},\n",
       " 'id': ['주민등록증', '여권'],\n",
       " 'licence': '운전면허증'}"
      ]
     },
     "execution_count": 18,
     "metadata": {},
     "output_type": "execute_result"
    }
   ],
   "source": [
    "# 딕셔너리 특정 value값 빼오기\n",
    "wallet.pop('point card')\n",
    "wallet"
   ]
  },
  {
   "cell_type": "code",
   "execution_count": 19,
   "id": "470ced28",
   "metadata": {
    "ExecuteTime": {
     "end_time": "2022-04-21T10:26:09.571893Z",
     "start_time": "2022-04-21T10:26:09.566575Z"
    }
   },
   "outputs": [],
   "source": [
    "# pop 명령어로 빼온 값, wallet에는 해당항목 사라져 있음\n",
    "result = wallet.pop('cash')"
   ]
  },
  {
   "cell_type": "code",
   "execution_count": 21,
   "id": "3fbf8693",
   "metadata": {
    "ExecuteTime": {
     "end_time": "2022-04-21T10:26:25.735122Z",
     "start_time": "2022-04-21T10:26:25.723512Z"
    }
   },
   "outputs": [
    {
     "data": {
      "text/plain": [
       "{'card': '삼성카드',\n",
       " 'coin': {'500원': 1, '100원': 1},\n",
       " 'id': ['주민등록증', '여권'],\n",
       " 'licence': '운전면허증'}"
      ]
     },
     "execution_count": 21,
     "metadata": {},
     "output_type": "execute_result"
    }
   ],
   "source": [
    "wallet"
   ]
  },
  {
   "cell_type": "code",
   "execution_count": 24,
   "id": "38be0d02",
   "metadata": {
    "ExecuteTime": {
     "end_time": "2022-04-21T10:27:31.944864Z",
     "start_time": "2022-04-21T10:27:31.931092Z"
    }
   },
   "outputs": [
    {
     "data": {
      "text/plain": [
       "{'card': '삼성카드',\n",
       " 'coin': {'500원': 10, '100원': 1},\n",
       " 'id': ['주민등록증', '여권'],\n",
       " 'licence': '운전면허증'}"
      ]
     },
     "execution_count": 24,
     "metadata": {},
     "output_type": "execute_result"
    }
   ],
   "source": [
    "# 딕셔너리 내부 속성 값에 접근해서 값 업데이트도 가능하다.\n",
    "# wallet의 coin key값을 갖는 값에 50원:1 값을 추가한다.\n",
    "wallet['coin']['500원'] = 10\n",
    "wallet"
   ]
  },
  {
   "cell_type": "code",
   "execution_count": 27,
   "id": "0638f815",
   "metadata": {
    "ExecuteTime": {
     "end_time": "2022-04-21T10:33:24.938165Z",
     "start_time": "2022-04-21T10:33:24.931644Z"
    }
   },
   "outputs": [
    {
     "data": {
      "text/plain": [
       "{'card': '삼성카드',\n",
       " 'coin': {'500원': 10, '100원': 1},\n",
       " 'id': ['주민등록증', '여권', '운전면허증'],\n",
       " 'licence': '운전면허증'}"
      ]
     },
     "execution_count": 27,
     "metadata": {},
     "output_type": "execute_result"
    }
   ],
   "source": [
    "# wallet id key값에 '운전면허증' 추가\n",
    "# 문제가 한 단어로 들어와도 이걸 한방에 해결할려고 하는 순간 꼬입니다.\n",
    "# 문제를 조각조각 작업단위로 쪼개주세요\n",
    "# 하나하나 풀다보면 문제 풀려있습니다.\n",
    "wallet['id'].append('운전면허증')\n",
    "wallet"
   ]
  },
  {
   "cell_type": "markdown",
   "id": "9a9f4045",
   "metadata": {},
   "source": [
    "### 딕셔너리 삭제"
   ]
  },
  {
   "cell_type": "code",
   "execution_count": 28,
   "id": "cc493865",
   "metadata": {
    "ExecuteTime": {
     "end_time": "2022-04-21T10:34:10.920587Z",
     "start_time": "2022-04-21T10:34:10.911495Z"
    }
   },
   "outputs": [
    {
     "data": {
      "text/plain": [
       "{'card': '삼성카드',\n",
       " 'coin': {'500원': 10, '100원': 1},\n",
       " 'id': ['주민등록증', '여권', '운전면허증']}"
      ]
     },
     "execution_count": 28,
     "metadata": {},
     "output_type": "execute_result"
    }
   ],
   "source": [
    "# 딕셔너리 항목 제거\n",
    "# 딕셔너리의 key값까지 전달하여 해당 key값과 값을 동시에 제거\n",
    "del wallet['licence']\n",
    "wallet"
   ]
  },
  {
   "cell_type": "code",
   "execution_count": 30,
   "id": "51791cd0",
   "metadata": {
    "ExecuteTime": {
     "end_time": "2022-04-21T10:34:32.562788Z",
     "start_time": "2022-04-21T10:34:32.554590Z"
    }
   },
   "outputs": [
    {
     "data": {
      "text/plain": [
       "{}"
      ]
     },
     "execution_count": 30,
     "metadata": {},
     "output_type": "execute_result"
    }
   ],
   "source": [
    "# 딕셔너리 원소 전체 삭제\n",
    "wallet.clear()\n",
    "wallet"
   ]
  },
  {
   "cell_type": "code",
   "execution_count": 32,
   "id": "1882ad97",
   "metadata": {
    "ExecuteTime": {
     "end_time": "2022-04-21T10:35:03.110943Z",
     "start_time": "2022-04-21T10:35:03.081727Z"
    }
   },
   "outputs": [
    {
     "ename": "NameError",
     "evalue": "name 'wallet' is not defined",
     "output_type": "error",
     "traceback": [
      "\u001b[0;31m---------------------------------------------------------------------------\u001b[0m",
      "\u001b[0;31mNameError\u001b[0m                                 Traceback (most recent call last)",
      "Input \u001b[0;32mIn [32]\u001b[0m, in \u001b[0;36m<module>\u001b[0;34m\u001b[0m\n\u001b[1;32m      1\u001b[0m \u001b[38;5;66;03m# 딕셔너리 변수 완전 삭제\u001b[39;00m\n\u001b[0;32m----> 2\u001b[0m \u001b[38;5;28;01mdel\u001b[39;00m wallet\n\u001b[1;32m      3\u001b[0m wallet\n",
      "\u001b[0;31mNameError\u001b[0m: name 'wallet' is not defined"
     ]
    }
   ],
   "source": [
    "# 딕셔너리 변수 완전 삭제\n",
    "del wallet\n",
    "wallet"
   ]
  },
  {
   "cell_type": "markdown",
   "id": "b056f0c1",
   "metadata": {},
   "source": [
    "### 딕셔너리 추가 명령어"
   ]
  },
  {
   "cell_type": "code",
   "execution_count": 40,
   "id": "d630f61d",
   "metadata": {
    "ExecuteTime": {
     "end_time": "2022-04-21T10:36:49.281965Z",
     "start_time": "2022-04-21T10:36:49.274208Z"
    }
   },
   "outputs": [
    {
     "name": "stdout",
     "output_type": "stream",
     "text": [
      "SK카드\n",
      "75000\n",
      "{'500원': 1, '100원': 1}\n",
      "['주민등록증', '여권']\n",
      "운전면허증\n"
     ]
    }
   ],
   "source": [
    "# 딕셔너리 내 키 값을 확인\n",
    "for item in list(wallet.keys()):\n",
    "    print(wallet[item])"
   ]
  },
  {
   "cell_type": "code",
   "execution_count": 36,
   "id": "406af684",
   "metadata": {
    "ExecuteTime": {
     "end_time": "2022-04-21T10:35:43.798313Z",
     "start_time": "2022-04-21T10:35:43.790609Z"
    }
   },
   "outputs": [
    {
     "data": {
      "text/plain": [
       "dict_values(['SK카드', 75000, {'500원': 1, '100원': 1}, ['주민등록증', '여권'], '운전면허증'])"
      ]
     },
     "execution_count": 36,
     "metadata": {},
     "output_type": "execute_result"
    }
   ],
   "source": [
    "# 딕셔너리 내 값을 확인\n",
    "wallet.values()"
   ]
  },
  {
   "cell_type": "code",
   "execution_count": 37,
   "id": "d7a42581",
   "metadata": {
    "ExecuteTime": {
     "end_time": "2022-04-21T10:35:57.848377Z",
     "start_time": "2022-04-21T10:35:57.838489Z"
    }
   },
   "outputs": [
    {
     "data": {
      "text/plain": [
       "dict_items([('card', 'SK카드'), ('cash', 75000), ('coin', {'500원': 1, '100원': 1}), ('id', ['주민등록증', '여권']), ('licence', '운전면허증')])"
      ]
     },
     "execution_count": 37,
     "metadata": {},
     "output_type": "execute_result"
    }
   ],
   "source": [
    "# 딕셔너리의 key, value 쌍을 확인\n",
    "wallet.items()"
   ]
  },
  {
   "cell_type": "code",
   "execution_count": null,
   "id": "5a604099",
   "metadata": {},
   "outputs": [],
   "source": [
    "# 에러뜨쟎아요?\n",
    "# 컴퓨터 멍청멍청~ 못알아먹는거\n",
    "# 에러는 결국에 컴퓨터가 못알아먹고 되는거 ~ 나 이거 해결해주면 코드 돌릴 수 있어 해결 좀\n",
    "# 에러의 99%의 에러는 오타입니다"
   ]
  },
  {
   "cell_type": "markdown",
   "id": "5ecfac20",
   "metadata": {},
   "source": [
    "## 반복문"
   ]
  },
  {
   "cell_type": "markdown",
   "id": "5d87e568",
   "metadata": {},
   "source": [
    "### for 문의 구조\n",
    ">**`for` `반복자` in `반복범위` `:`**  # 반복범위 안에서 반복자가 정의되며\n",
    ">>**`실행코드`** # 코드가 실행된다.\n",
    "    \n",
    "- 반복자 : 구간(범위)를 순환하며 정의되는 변수  \n",
    "- 반복범위 : **`list`** 등 순서가 존재하는 자료구조  \n",
    "- 관례적으로 심플한 반복자는 **`_`**(반복자를 작업에 사용하지 않을경우) 혹은 영문자 **`i`**(iterator)를 사용한다.  \n",
    "\n",
    "혹은 **`range()`** 명령어로 혹은 반복작업 횟수로 설정 가능      \n",
    "> **`range()`** 명령어  \n",
    "> **`range(횟수)`** 횟수만큼의 범위 생성  \n",
    "> **`range(x, y, z)`** x 부터 y-1 까지 z스텝 범위를 만들어주는 함수  "
   ]
  },
  {
   "cell_type": "code",
   "execution_count": 42,
   "id": "ba7f67e6",
   "metadata": {
    "ExecuteTime": {
     "end_time": "2022-04-21T10:44:30.553174Z",
     "start_time": "2022-04-21T10:44:30.544837Z"
    }
   },
   "outputs": [
    {
     "data": {
      "text/plain": [
       "range(0, 5)"
      ]
     },
     "execution_count": 42,
     "metadata": {},
     "output_type": "execute_result"
    }
   ],
   "source": [
    "range(5)"
   ]
  },
  {
   "cell_type": "code",
   "execution_count": 41,
   "id": "10611cb7",
   "metadata": {
    "ExecuteTime": {
     "end_time": "2022-04-21T10:43:33.530459Z",
     "start_time": "2022-04-21T10:43:33.525552Z"
    }
   },
   "outputs": [
    {
     "name": "stdout",
     "output_type": "stream",
     "text": [
      "반복 중입니다.\n",
      "반복 중입니다.\n",
      "반복 중입니다.\n",
      "반복 중입니다.\n",
      "반복 중입니다.\n"
     ]
    }
   ],
   "source": [
    "for _ in range(5):\n",
    "    print('반복 중입니다.')"
   ]
  },
  {
   "cell_type": "code",
   "execution_count": 43,
   "id": "fd1e3ce1",
   "metadata": {
    "ExecuteTime": {
     "end_time": "2022-04-21T10:45:46.269957Z",
     "start_time": "2022-04-21T10:45:46.263509Z"
    }
   },
   "outputs": [
    {
     "name": "stdout",
     "output_type": "stream",
     "text": [
      "0번 반복 중입니다.\n",
      "1번 반복 중입니다.\n",
      "2번 반복 중입니다.\n",
      "3번 반복 중입니다.\n",
      "4번 반복 중입니다.\n",
      "5번 반복 중입니다.\n",
      "6번 반복 중입니다.\n",
      "7번 반복 중입니다.\n",
      "8번 반복 중입니다.\n",
      "9번 반복 중입니다.\n"
     ]
    }
   ],
   "source": [
    "for i in range(10):\n",
    "    print(f'{i}번 반복 중입니다.')"
   ]
  },
  {
   "cell_type": "code",
   "execution_count": 49,
   "id": "041f4a10",
   "metadata": {
    "ExecuteTime": {
     "end_time": "2022-04-21T11:03:15.514164Z",
     "start_time": "2022-04-21T11:03:15.507706Z"
    }
   },
   "outputs": [
    {
     "name": "stdout",
     "output_type": "stream",
     "text": [
      "5\n",
      "10\n",
      "15\n"
     ]
    }
   ],
   "source": [
    "# range 함수의 조건 추가\n",
    "# 0부터 19까지 5의 배수만을 출력\n",
    "for i in range(5, 20, 5):\n",
    "    print(i)\n",
    "# x부터 y-1까지의 범위에서 z step순으로 데이터 구간 빼옴"
   ]
  },
  {
   "cell_type": "code",
   "execution_count": 51,
   "id": "764977d0",
   "metadata": {
    "ExecuteTime": {
     "end_time": "2022-04-21T11:05:20.566567Z",
     "start_time": "2022-04-21T11:05:20.556181Z"
    }
   },
   "outputs": [
    {
     "name": "stdout",
     "output_type": "stream",
     "text": [
      "0 0\n",
      "0 1\n",
      "0 2\n",
      "1 0\n",
      "1 1\n",
      "1 2\n",
      "2 0\n",
      "2 1\n",
      "2 2\n"
     ]
    }
   ],
   "source": [
    "# for문의 중첩\n",
    "for i in range(3):\n",
    "    for j in range(5):\n",
    "        if j == 3:\n",
    "            break\n",
    "        print(i, j)"
   ]
  },
  {
   "cell_type": "code",
   "execution_count": 55,
   "id": "a995e2b0",
   "metadata": {
    "ExecuteTime": {
     "end_time": "2022-04-21T11:10:54.385720Z",
     "start_time": "2022-04-21T11:10:54.378497Z"
    }
   },
   "outputs": [
    {
     "name": "stdout",
     "output_type": "stream",
     "text": [
      "2 X 1 = 2\n",
      "2 X 2 = 4\n",
      "2 X 3 = 6\n",
      "2 X 4 = 8\n",
      "2 X 5 = 10\n",
      "2 X 6 = 12\n",
      "2 X 7 = 14\n",
      "2 X 8 = 16\n",
      "2 X 9 = 18\n",
      "3 X 1 = 3\n",
      "3 X 2 = 6\n",
      "3 X 3 = 9\n",
      "3 X 4 = 12\n",
      "3 X 5 = 15\n",
      "3 X 6 = 18\n",
      "3 X 7 = 21\n",
      "3 X 8 = 24\n",
      "3 X 9 = 27\n",
      "4 X 1 = 4\n",
      "4 X 2 = 8\n",
      "4 X 3 = 12\n",
      "4 X 4 = 16\n",
      "4 X 5 = 20\n",
      "4 X 6 = 24\n",
      "4 X 7 = 28\n",
      "4 X 8 = 32\n",
      "4 X 9 = 36\n",
      "5 X 1 = 5\n",
      "5 X 2 = 10\n",
      "5 X 3 = 15\n",
      "5 X 4 = 20\n",
      "5 X 5 = 25\n",
      "5 X 6 = 30\n",
      "5 X 7 = 35\n",
      "5 X 8 = 40\n",
      "5 X 9 = 45\n",
      "6 X 1 = 6\n",
      "6 X 2 = 12\n",
      "6 X 3 = 18\n",
      "6 X 4 = 24\n",
      "6 X 5 = 30\n",
      "6 X 6 = 36\n",
      "6 X 7 = 42\n",
      "6 X 8 = 48\n",
      "6 X 9 = 54\n",
      "7 X 1 = 7\n",
      "7 X 2 = 14\n",
      "7 X 3 = 21\n",
      "7 X 4 = 28\n",
      "7 X 5 = 35\n",
      "7 X 6 = 42\n",
      "7 X 7 = 49\n",
      "7 X 8 = 56\n",
      "7 X 9 = 63\n",
      "8 X 1 = 8\n",
      "8 X 2 = 16\n",
      "8 X 3 = 24\n",
      "8 X 4 = 32\n",
      "8 X 5 = 40\n",
      "8 X 6 = 48\n",
      "8 X 7 = 56\n",
      "8 X 8 = 64\n",
      "8 X 9 = 72\n",
      "9 X 1 = 9\n",
      "9 X 2 = 18\n",
      "9 X 3 = 27\n",
      "9 X 4 = 36\n",
      "9 X 5 = 45\n",
      "9 X 6 = 54\n",
      "9 X 7 = 63\n",
      "9 X 8 = 72\n",
      "9 X 9 = 81\n"
     ]
    }
   ],
   "source": [
    "# for 문으로 range() 명령어만을 사용하여 구구단 구단을 출력해봅시다.\n",
    "# 밖 단수 설정? 안쪽 단수?\n",
    "# 출력은 어떻게?\n",
    "# 2 X 1 = 2\n",
    "# 2 X 2 = 4\n",
    "\n",
    "for i in range(2, 10):\n",
    "    for j in range(1, 10):\n",
    "        print(f'{i} X {j} = {i * j}')"
   ]
  },
  {
   "cell_type": "markdown",
   "id": "64b6decd",
   "metadata": {},
   "source": [
    "### 자료구조를 순환하는 for문의 활용(매우 중요)"
   ]
  },
  {
   "cell_type": "code",
   "execution_count": 58,
   "id": "92fb4374",
   "metadata": {
    "ExecuteTime": {
     "end_time": "2022-04-21T11:12:52.227749Z",
     "start_time": "2022-04-21T11:12:52.219813Z"
    }
   },
   "outputs": [],
   "source": [
    "test_list1 = [10, 20, 30, 40, 50, 60, 70, 80, 90]\n",
    "test_list2 = ['이름', '사는곳', '사는동네', '좋아하는 카페', '음악', '반려묘', '취미']\n",
    "test_list3 = ['변치웅', '서울 용산구', '해방촌', '르카페', '재즈', '치즈', '요리']"
   ]
  },
  {
   "cell_type": "code",
   "execution_count": 60,
   "id": "35248175",
   "metadata": {
    "ExecuteTime": {
     "end_time": "2022-04-21T11:13:10.102288Z",
     "start_time": "2022-04-21T11:13:10.094777Z"
    }
   },
   "outputs": [
    {
     "name": "stdout",
     "output_type": "stream",
     "text": [
      "0.1\n",
      "0.2\n",
      "0.3\n",
      "0.4\n",
      "0.5\n",
      "0.6\n",
      "0.7\n",
      "0.8\n",
      "0.9\n"
     ]
    }
   ],
   "source": [
    "# item인데 i를 못쓰니까 인덱스가 없음\n",
    "for item in test_list1:\n",
    "    print(item / 100)"
   ]
  },
  {
   "cell_type": "code",
   "execution_count": 61,
   "id": "c45d3467",
   "metadata": {
    "ExecuteTime": {
     "end_time": "2022-04-21T11:14:44.095779Z",
     "start_time": "2022-04-21T11:14:44.091176Z"
    }
   },
   "outputs": [
    {
     "name": "stdout",
     "output_type": "stream",
     "text": [
      "0 10\n",
      "1 20\n",
      "2 30\n",
      "3 40\n",
      "4 50\n",
      "5 60\n",
      "6 70\n",
      "7 80\n",
      "8 90\n"
     ]
    }
   ],
   "source": [
    "# enumerate, zip 활용\n",
    "for index, item in enumerate(test_list1):\n",
    "    print(index, item)"
   ]
  },
  {
   "cell_type": "code",
   "execution_count": 62,
   "id": "d0d54d6e",
   "metadata": {
    "ExecuteTime": {
     "end_time": "2022-04-21T11:15:32.947345Z",
     "start_time": "2022-04-21T11:15:32.941643Z"
    }
   },
   "outputs": [],
   "source": [
    "test_list2 = ['이름', '사는곳', '사는동네', '좋아하는 카페', '음악', '반려묘', '취미']\n",
    "test_list3 = ['변치웅', '서울 용산구', '해방촌', '르카페', '재즈', '치즈', '요리']"
   ]
  },
  {
   "cell_type": "code",
   "execution_count": 63,
   "id": "3afdb26b",
   "metadata": {
    "ExecuteTime": {
     "end_time": "2022-04-21T11:15:54.979047Z",
     "start_time": "2022-04-21T11:15:54.971131Z"
    }
   },
   "outputs": [
    {
     "name": "stdout",
     "output_type": "stream",
     "text": [
      "이름 변치웅\n",
      "사는곳 서울 용산구\n",
      "사는동네 해방촌\n",
      "좋아하는 카페 르카페\n",
      "음악 재즈\n",
      "반려묘 치즈\n",
      "취미 요리\n"
     ]
    }
   ],
   "source": [
    "for item1, item2 in zip(test_list2, test_list3):\n",
    "    print(item1, item2)"
   ]
  },
  {
   "cell_type": "code",
   "execution_count": 72,
   "id": "25eef50c",
   "metadata": {
    "ExecuteTime": {
     "end_time": "2022-04-21T11:26:14.251820Z",
     "start_time": "2022-04-21T11:26:14.239566Z"
    }
   },
   "outputs": [
    {
     "data": {
      "text/plain": [
       "{'변치웅': '이름',\n",
       " '서울 용산구': '사는곳',\n",
       " '해방촌': '사는동네',\n",
       " '르카페': '좋아하는 카페',\n",
       " '재즈': '음악',\n",
       " '치즈': '반려묘',\n",
       " '요리': '취미'}"
      ]
     },
     "execution_count": 72,
     "metadata": {},
     "output_type": "execute_result"
    }
   ],
   "source": [
    "# list comprehension\n",
    "test_list = [i for i in range(10) if i % 2 == 0]\n",
    "# else 포함되면\n",
    "test_list = [i if i % 2 == 0 else 10 for i in range(10)]\n",
    "test_list\n",
    "# dict comprehension\n",
    "test_dict1 = {item1:item2 for item1, item2 in zip(test_list2, test_list3)}\n",
    "test_dict2 = {item2:item1 for item1, item2 in zip(test_list2, test_list3)}\n",
    "test_dict2"
   ]
  },
  {
   "cell_type": "code",
   "execution_count": null,
   "id": "4dae28d4",
   "metadata": {},
   "outputs": [],
   "source": [
    "# 데이터 --> 갯수가 정해져 있죠?\n",
    "# for문을 많이 씀"
   ]
  },
  {
   "cell_type": "markdown",
   "id": "6121eb35",
   "metadata": {},
   "source": [
    "### while\n",
    "> - 코드의 무한 반복적인 실행을 위한 반복문  \n",
    "> - 조건식이 참일 경우 실행코드가 무한반복하여 실행 됨  \n",
    "> - 보통은 프로그램을 실행 대기상태로 두거나 입력값을 받는 등의 용도로 사용.(데이터 분석 사용빈도 낮음)  "
   ]
  },
  {
   "cell_type": "code",
   "execution_count": 73,
   "id": "f766fe46",
   "metadata": {
    "ExecuteTime": {
     "end_time": "2022-04-21T11:30:15.116600Z",
     "start_time": "2022-04-21T11:30:00.663209Z"
    }
   },
   "outputs": [
    {
     "name": "stdout",
     "output_type": "stream",
     "text": [
      "숫자를 입력하세요 : 10\n"
     ]
    },
    {
     "data": {
      "text/plain": [
       "'10'"
      ]
     },
     "execution_count": 73,
     "metadata": {},
     "output_type": "execute_result"
    }
   ],
   "source": [
    "input('숫자를 입력하세요 : ')"
   ]
  },
  {
   "cell_type": "markdown",
   "id": "f8f93f6a",
   "metadata": {},
   "source": [
    "### while문의 구조\n",
    ">**`while` `조건식` `:`** # 조건식이 참이라면\n",
    ">>**`실행코드`** # 코드가 무한반복 실행\n",
    "        \n",
    "`while` 문의 조건식이 참일 경우 무조건 실행되게끔 짜여진 구조.  \n",
    "`while` 문을 사용 할 때에는 반복구문을 어떻게 종료 해야할지 설정해야 함."
   ]
  },
  {
   "cell_type": "code",
   "execution_count": null,
   "id": "98d02b51",
   "metadata": {
    "ExecuteTime": {
     "end_time": "2022-04-21T11:32:07.223425Z",
     "start_time": "2022-04-21T11:31:29.042468Z"
    }
   },
   "outputs": [],
   "source": [
    "while True:\n",
    "    print('무한반복 중입니다.')"
   ]
  },
  {
   "cell_type": "code",
   "execution_count": 77,
   "id": "87d41432",
   "metadata": {
    "ExecuteTime": {
     "end_time": "2022-04-21T11:35:17.841133Z",
     "start_time": "2022-04-21T11:35:17.834540Z"
    }
   },
   "outputs": [
    {
     "name": "stdout",
     "output_type": "stream",
     "text": [
      "반복중입니다.\n",
      "반복중입니다.\n",
      "반복중입니다.\n",
      "반복중입니다.\n",
      "반복중입니다.\n",
      "반복중입니다.\n",
      "반복중입니다.\n",
      "반복중입니다.\n",
      "반복중입니다.\n",
      "반복중입니다.\n"
     ]
    }
   ],
   "source": [
    "# 기본적인 while 구문\n",
    "# for문과는 달리 조건식을 while 구문 바로 뒤에 적어줌\n",
    "# while문의 무한루프를 컨트롤 하기위한 변수 설정하고 조건식을 추가하여 코드실행을 컨트롤\n",
    "a = 0\n",
    "while True:\n",
    "    print('반복중입니다.')\n",
    "    a += 1 # 반복자 처럼 사용가능한 변수\n",
    "    print(a) # 횟수 출력\n",
    "    if a == 10:\n",
    "        break\n",
    "# 반복을 진행하다가 멈추고 싶다\n",
    "    #a += 1\n",
    "    #if a > 50:\n",
    "    #    break"
   ]
  },
  {
   "cell_type": "code",
   "execution_count": 87,
   "id": "c3fdfe1b",
   "metadata": {
    "ExecuteTime": {
     "end_time": "2022-04-21T11:46:05.167750Z",
     "start_time": "2022-04-21T11:46:05.156463Z"
    }
   },
   "outputs": [
    {
     "name": "stdout",
     "output_type": "stream",
     "text": [
      "1\n",
      "3\n",
      "5\n",
      "7\n",
      "9\n",
      "11\n",
      "13\n",
      "15\n",
      "17\n",
      "19\n",
      "21\n",
      "23\n",
      "25\n",
      "27\n",
      "29\n",
      "31\n",
      "33\n",
      "35\n",
      "37\n",
      "39\n",
      "41\n",
      "43\n",
      "45\n",
      "47\n",
      "49\n",
      "51\n",
      "53\n",
      "55\n",
      "57\n",
      "59\n",
      "61\n",
      "63\n",
      "65\n",
      "67\n",
      "69\n",
      "71\n",
      "73\n",
      "75\n",
      "77\n",
      "79\n",
      "81\n",
      "83\n",
      "85\n",
      "87\n",
      "89\n",
      "91\n",
      "93\n",
      "95\n",
      "97\n",
      "99\n",
      "2500\n"
     ]
    }
   ],
   "source": [
    "# 1~ 100 정수들 중 홀수의 합을 while 사용해서 구해보긔\n",
    "\n",
    "# 합을 출력할 수 있는 변수\n",
    "# while 1~100 그리고 이중에서 홀수만 변수지정\n",
    "# 합 변수에다가 증감연산자 사용해서 홀수 변수 더하고\n",
    "# 출력\n",
    "total = 0\n",
    "a = 0\n",
    "while True:\n",
    "    a += 1\n",
    "    if a > 100:\n",
    "        break\n",
    "    if a % 2 == 1:\n",
    "        print(a)\n",
    "        total += a\n",
    "print(total)"
   ]
  },
  {
   "cell_type": "markdown",
   "id": "9f62a5c7",
   "metadata": {},
   "source": [
    "## 함수와 클래스"
   ]
  },
  {
   "cell_type": "markdown",
   "id": "d475a7e1",
   "metadata": {},
   "source": [
    "### 함수\n",
    "> 수학적 정의의 **함수**란?  \n",
    "$y$ = $f(x)$\n",
    "\n",
    "> 프로그래밍에서의 함수란?  \n",
    "자주 사용해야 하는 코드를 **재사용하기 위한 코드의 묶음**\n",
    "\n",
    "> 데이터과학에서의 함수란?  \n",
    "입력값을 받아 사용자가 원하는 처리를 한 후 결과값을 되돌려 받는 코드의 묶음"
   ]
  },
  {
   "cell_type": "code",
   "execution_count": 88,
   "id": "750f2c63",
   "metadata": {
    "ExecuteTime": {
     "end_time": "2022-04-21T11:49:49.475528Z",
     "start_time": "2022-04-21T11:49:49.469104Z"
    }
   },
   "outputs": [
    {
     "data": {
      "text/plain": [
       "10"
      ]
     },
     "execution_count": 88,
     "metadata": {},
     "output_type": "execute_result"
    }
   ],
   "source": [
    "test_list = [1, 2, 3]\n",
    "test_list.pop()"
   ]
  },
  {
   "cell_type": "markdown",
   "id": "ebd360f9",
   "metadata": {},
   "source": [
    "### 함수의 구조\n",
    ">**`def` `함수이름` `(파라메터 혹은 매개변수)` `:`** # 파라메터는 없어도 가능함. 함수 정의 후 `:`으로 마무리 한다.\n",
    ">>**`실행코드`**  \n",
    "**`실행코드`**  \n",
    "**`실행코드`**  \n",
    "**`return` `반환값`** # 함수에서 실행코드를 거친 결과 값 혹은 변수(반환값)을 리턴\n",
    "    \n",
    ">파라메터 혹은 매개변수 : 함수의 입력값, 혹은 함수의 작동에 영향을 줄 수 있는 값(변수)  \n",
    "파라메터는 없어도 되지만 세미콜론은 반드시 찍어준다."
   ]
  },
  {
   "cell_type": "code",
   "execution_count": 98,
   "id": "cf938be4",
   "metadata": {
    "ExecuteTime": {
     "end_time": "2022-04-21T12:09:36.066383Z",
     "start_time": "2022-04-21T12:09:36.063345Z"
    }
   },
   "outputs": [],
   "source": [
    "# 함수밖에서 정의 된 변수 - 글로벌변수, 전역변수 <--- 함수안에서 어디서든지 접근이 가능\n",
    "age = 39"
   ]
  },
  {
   "cell_type": "code",
   "execution_count": 104,
   "id": "3a765be8",
   "metadata": {
    "ExecuteTime": {
     "end_time": "2022-04-21T12:13:45.888483Z",
     "start_time": "2022-04-21T12:13:45.882612Z"
    }
   },
   "outputs": [],
   "source": [
    "# 파라메터, return, 로컬 변수\n",
    "# 메모리에 함수명이 저장 됨\n",
    "# 함수 설정 시 지정한 파라메터 갯수는 호출할 때 갯수, 순서 맞추어서 전달을 해야 함.\n",
    "def person(name):\n",
    "    email = 'byun0419@gmail.com'\n",
    "    print(f'제 이름은 {name} 나이는 {age}입니다. 메일은 {email}')\n",
    "    \n",
    "    return email"
   ]
  },
  {
   "cell_type": "code",
   "execution_count": 105,
   "id": "996e034d",
   "metadata": {
    "ExecuteTime": {
     "end_time": "2022-04-21T12:13:54.252223Z",
     "start_time": "2022-04-21T12:13:54.229793Z"
    }
   },
   "outputs": [
    {
     "ename": "NameError",
     "evalue": "name 'email' is not defined",
     "output_type": "error",
     "traceback": [
      "\u001b[0;31m---------------------------------------------------------------------------\u001b[0m",
      "\u001b[0;31mNameError\u001b[0m                                 Traceback (most recent call last)",
      "Input \u001b[0;32mIn [105]\u001b[0m, in \u001b[0;36m<module>\u001b[0;34m\u001b[0m\n\u001b[1;32m      1\u001b[0m \u001b[38;5;66;03m# 함수 내부에서 설정한 변수 <--- 로컬변수, 지역변수\u001b[39;00m\n\u001b[1;32m      2\u001b[0m \u001b[38;5;66;03m# 함수 밖에서는 접근이 안됨\u001b[39;00m\n\u001b[0;32m----> 3\u001b[0m \u001b[43memail\u001b[49m\n",
      "\u001b[0;31mNameError\u001b[0m: name 'email' is not defined"
     ]
    }
   ],
   "source": [
    "# 함수 내부에서 설정한 변수 <--- 로컬변수, 지역변수\n",
    "# 함수 밖에서는 접근이 안됨\n",
    "email"
   ]
  },
  {
   "cell_type": "code",
   "execution_count": 107,
   "id": "4a3dfd10",
   "metadata": {
    "ExecuteTime": {
     "end_time": "2022-04-21T12:14:25.252977Z",
     "start_time": "2022-04-21T12:14:25.247964Z"
    }
   },
   "outputs": [
    {
     "name": "stdout",
     "output_type": "stream",
     "text": [
      "제 이름은 Eddy 나이는 39입니다. 메일은 byun0419@gmail.com\n"
     ]
    }
   ],
   "source": [
    "# 함수 호출\n",
    "# 메모리 함수명 이동\n",
    "result = person('Eddy')"
   ]
  },
  {
   "cell_type": "code",
   "execution_count": 108,
   "id": "0488028d",
   "metadata": {
    "ExecuteTime": {
     "end_time": "2022-04-21T12:14:36.469757Z",
     "start_time": "2022-04-21T12:14:36.460506Z"
    },
    "scrolled": true
   },
   "outputs": [
    {
     "data": {
      "text/plain": [
       "'byun0419@gmail.com'"
      ]
     },
     "execution_count": 108,
     "metadata": {},
     "output_type": "execute_result"
    }
   ],
   "source": [
    "result"
   ]
  },
  {
   "cell_type": "code",
   "execution_count": 109,
   "id": "cebad751",
   "metadata": {
    "ExecuteTime": {
     "end_time": "2022-04-21T12:16:15.265082Z",
     "start_time": "2022-04-21T12:16:15.260971Z"
    }
   },
   "outputs": [],
   "source": [
    "def print_sum(x, y):\n",
    "    return x + y"
   ]
  },
  {
   "cell_type": "code",
   "execution_count": 110,
   "id": "27bd7141",
   "metadata": {
    "ExecuteTime": {
     "end_time": "2022-04-21T12:16:23.084074Z",
     "start_time": "2022-04-21T12:16:23.078540Z"
    }
   },
   "outputs": [
    {
     "data": {
      "text/plain": [
       "40"
      ]
     },
     "execution_count": 110,
     "metadata": {},
     "output_type": "execute_result"
    }
   ],
   "source": [
    "print_sum(10, 30)"
   ]
  },
  {
   "cell_type": "markdown",
   "id": "631cf1a5",
   "metadata": {},
   "source": [
    "### 지금까지 우리가 알게 모르게 사용해왔던 함수들\n",
    "`print()`  \n",
    "`int()`  \n",
    "`str()`  \n",
    "`float()`  \n",
    "`input()`  \n",
    "`list()`  \n",
    "`dict()`  \n",
    "`range()`  \n",
    "`append()`   등등등"
   ]
  },
  {
   "cell_type": "code",
   "execution_count": 1,
   "id": "bc946e55",
   "metadata": {
    "ExecuteTime": {
     "end_time": "2022-04-21T12:20:54.681740Z",
     "start_time": "2022-04-21T12:20:54.677347Z"
    }
   },
   "outputs": [
    {
     "name": "stdout",
     "output_type": "stream",
     "text": [
      "안녕하세요\n"
     ]
    }
   ],
   "source": [
    "print('안녕하세요')"
   ]
  },
  {
   "cell_type": "code",
   "execution_count": 113,
   "id": "cd7bd028",
   "metadata": {
    "ExecuteTime": {
     "end_time": "2022-04-21T12:19:43.332382Z",
     "start_time": "2022-04-21T12:19:43.321088Z"
    }
   },
   "outputs": [],
   "source": [
    "print = 10"
   ]
  },
  {
   "cell_type": "code",
   "execution_count": 111,
   "id": "c19b3106",
   "metadata": {
    "ExecuteTime": {
     "end_time": "2022-04-21T12:18:24.781307Z",
     "start_time": "2022-04-21T12:18:24.767983Z"
    }
   },
   "outputs": [],
   "source": [
    "test_list.append(5)"
   ]
  },
  {
   "cell_type": "code",
   "execution_count": 112,
   "id": "61f49712",
   "metadata": {
    "ExecuteTime": {
     "end_time": "2022-04-21T12:18:29.070618Z",
     "start_time": "2022-04-21T12:18:29.064694Z"
    }
   },
   "outputs": [
    {
     "data": {
      "text/plain": [
       "[0, 10, 2, 10, 4, 10, 6, 10, 8, 10, 5]"
      ]
     },
     "execution_count": 112,
     "metadata": {},
     "output_type": "execute_result"
    }
   ],
   "source": [
    "test_list"
   ]
  },
  {
   "cell_type": "markdown",
   "id": "fbe16f3b",
   "metadata": {},
   "source": [
    "### python 예약어로 지정 된 함수를 쪼개봅시다\n",
    ">`sum()` 함수는 python 언어에 내장되어 있는 함수입니다.  \n",
    "파라메터로 iterable 변수 즉, 반복문으로 내부 인자의 루프를 돌 수 있는 변수를 받습니다.  \n",
    "그리고 그 인자의 합을 출력하는 함수입니다.  \n",
    "\n",
    "> `max()` 함수도 python 내장 함수로서 `sum()`과 같은 형식의 입력값을 받아 최대값을 반환하는 함수입니다.  \n",
    "함수를 쪼개봅시다  "
   ]
  },
  {
   "cell_type": "code",
   "execution_count": 2,
   "id": "8f0b0d36",
   "metadata": {
    "ExecuteTime": {
     "end_time": "2022-04-21T12:21:37.762483Z",
     "start_time": "2022-04-21T12:21:37.748725Z"
    }
   },
   "outputs": [
    {
     "data": {
      "text/plain": [
       "10"
      ]
     },
     "execution_count": 2,
     "metadata": {},
     "output_type": "execute_result"
    }
   ],
   "source": [
    "test_list = [1, 2, 3, 4]\n",
    "sum(test_list)"
   ]
  },
  {
   "cell_type": "code",
   "execution_count": 3,
   "id": "73b4c42d",
   "metadata": {
    "ExecuteTime": {
     "end_time": "2022-04-21T12:35:40.238440Z",
     "start_time": "2022-04-21T12:35:40.232987Z"
    }
   },
   "outputs": [],
   "source": [
    "# sum_sum sum() <--- 내장함수 안쓰고, 리스트 한정\n",
    "def sum_sum(x):\n",
    "    total = 0\n",
    "    for item in x:\n",
    "        total += item\n",
    "    return total\n",
    "        \n",
    "    \n",
    "# 파라메터 있어야되는지 없어도 되는지\n",
    "# 함수 정의\n",
    "# 합 저장하는 변수\n",
    "# 파라메터로 전달받는 자료구조 순환하고 (자료구조를 순환하는 for문의 활용)\n",
    "# 합에 더하고\n",
    "# 합 출력\n"
   ]
  },
  {
   "cell_type": "code",
   "execution_count": 4,
   "id": "0fef3142",
   "metadata": {
    "ExecuteTime": {
     "end_time": "2022-04-21T12:35:49.975985Z",
     "start_time": "2022-04-21T12:35:49.970585Z"
    }
   },
   "outputs": [
    {
     "data": {
      "text/plain": [
       "10"
      ]
     },
     "execution_count": 4,
     "metadata": {},
     "output_type": "execute_result"
    }
   ],
   "source": [
    "sum_sum(test_list)"
   ]
  },
  {
   "cell_type": "code",
   "execution_count": 5,
   "id": "40748ef6",
   "metadata": {
    "ExecuteTime": {
     "end_time": "2022-04-21T12:37:47.485948Z",
     "start_time": "2022-04-21T12:37:47.471983Z"
    }
   },
   "outputs": [],
   "source": [
    "def max_max(x):\n",
    "    max_num = -9999999999999999\n",
    "    for item in x:\n",
    "        if max_num < item:\n",
    "            max_num = item\n",
    "    return max_num"
   ]
  },
  {
   "cell_type": "code",
   "execution_count": 6,
   "id": "e057f352",
   "metadata": {
    "ExecuteTime": {
     "end_time": "2022-04-21T12:37:53.699800Z",
     "start_time": "2022-04-21T12:37:53.690499Z"
    }
   },
   "outputs": [
    {
     "data": {
      "text/plain": [
       "4"
      ]
     },
     "execution_count": 6,
     "metadata": {},
     "output_type": "execute_result"
    }
   ],
   "source": [
    "max_max(test_list)"
   ]
  },
  {
   "cell_type": "code",
   "execution_count": null,
   "id": "4b88e1b3",
   "metadata": {},
   "outputs": [],
   "source": [
    "# 개발자들이 코딩하면서 시간 제일 많이 할애하는 것? 변수, 함수 이름짓기\n",
    "# 함수로 만들면??? 함수 내부에서 정의되는 파라메터는 같은이름 네이밍에 시간 X\n",
    "# 변수가 외부 접근 X -> 함수 내부 변수는 메모리에 안올라가 있음.\n",
    "# 메모리 관리 차원에서도 좋음\n",
    "# 운영관리 차원에서도 좋음"
   ]
  },
  {
   "cell_type": "markdown",
   "id": "470b64e6",
   "metadata": {},
   "source": [
    "## 클래스의 구조\n",
    "> **`class`** **`[클래스명]`** **`:`** # 클래스의 선언  \n",
    "  \n",
    ">> **`def`** **`__init__`** **`(self, [파라메터])`** **`:`**  \n",
    ">> 클래스를 만들면서 입력받는 파라메터를 클래스 내에서 사용가능 하도록 초기화  \n",
    ">>> **`self.[변수명]`** = **`[파라메터]`**  \n",
    ">>> 클래스를 만들면서 입력받는 파라메터를 클래스 내에서 사용가능 하도록 초기화  \n",
    ">>> `self.x` = `x`\n",
    "\n",
    ">>**`def`** **`[함수명]`** **`([self, 파라메터])`** **`:`**  \n",
    ">>>**`[실행코드]`**  \n",
    "\n",
    "> 클래스의 선언은 함수와 달리 소괄호없이 선언한다.  \n",
    "클래스명은 단어의 첫 알파벳을 대문자로 ex) MyClass, SumTotal  \n",
    "클래스 선언이후 처음 작성하는 **`__init__`** 함수는  \n",
    "클래스가 정의되면서 입력되는 파라메터를 저장하고 재사용하기 위한 초기화함수  \n",
    "클래스 내 함수의 파라메터앞에는 항상 **`self`**를 추가해주어야 하며,  \n",
    "**`__init__`** 함수에서 설정한 변수 사용시에도 **`self`** 를 추가해준다.  \n",
    "**`self.`** 변수는 클래스 내부에서 사용되며 클래스 내부에 있는 모든 함수에 사용이 가능하다.  "
   ]
  },
  {
   "cell_type": "code",
   "execution_count": 7,
   "id": "8192f665",
   "metadata": {
    "ExecuteTime": {
     "end_time": "2022-04-21T12:42:13.544408Z",
     "start_time": "2022-04-21T12:42:13.532673Z"
    }
   },
   "outputs": [],
   "source": [
    "# 클래스의 형태를 눈으로 익혀봅시다.\n",
    "class Calculator: # 클래스 선언\n",
    "    \n",
    "    def __init__(self, x, y): # 초기화함수\n",
    "        self.x = x # 클래스 내 변수 초기화\n",
    "        self.y = y\n",
    "        \n",
    "    def my_sum(self): # 함수 정의\n",
    "        z = self.x + self.y\n",
    "        return z\n",
    "\n",
    "    def my_minus(self):\n",
    "        z = self.x - self.y\n",
    "        return z\n",
    "\n",
    "    def my_multiply(self):\n",
    "        z = self.x * self.y\n",
    "        return z\n",
    "\n",
    "    def my_division(self):\n",
    "        z = self.x / self.y\n",
    "        return z"
   ]
  },
  {
   "cell_type": "code",
   "execution_count": 9,
   "id": "4db791fe",
   "metadata": {
    "ExecuteTime": {
     "end_time": "2022-04-21T12:44:07.433679Z",
     "start_time": "2022-04-21T12:44:07.420516Z"
    }
   },
   "outputs": [],
   "source": [
    "a = Calculator(10, 40) # 클래스 호출해서 변수에 저장"
   ]
  },
  {
   "cell_type": "code",
   "execution_count": 14,
   "id": "89e0fd29",
   "metadata": {
    "ExecuteTime": {
     "end_time": "2022-04-21T12:46:26.864413Z",
     "start_time": "2022-04-21T12:46:26.859822Z"
    }
   },
   "outputs": [],
   "source": [
    "b = '안녕하세요'"
   ]
  },
  {
   "cell_type": "code",
   "execution_count": 16,
   "id": "b189e3e5",
   "metadata": {
    "ExecuteTime": {
     "end_time": "2022-04-21T12:48:50.036526Z",
     "start_time": "2022-04-21T12:48:50.029135Z"
    }
   },
   "outputs": [
    {
     "data": {
      "text/plain": [
       "-30"
      ]
     },
     "execution_count": 16,
     "metadata": {},
     "output_type": "execute_result"
    }
   ],
   "source": [
    "a.my_minus()"
   ]
  },
  {
   "cell_type": "code",
   "execution_count": 17,
   "id": "f519e56e",
   "metadata": {
    "ExecuteTime": {
     "end_time": "2022-04-21T12:49:57.866826Z",
     "start_time": "2022-04-21T12:49:45.631841Z"
    }
   },
   "outputs": [],
   "source": [
    "# 이런것도 할 수 있어요~\n",
    "# 텍스트를 음성으로 변환시켜주는 패키지(모듈) 입니다.\n",
    "# 사용하기 전 패키지를 다운받는 과정이 필요합니다.\n",
    "# !pip install pyttsx3\n",
    "import pyttsx3\n",
    "engine = pyttsx3.init()\n",
    "engine.say(\"수강생여러분.\")\n",
    "engine.say(\"파이썬 공부하느라 고생하십니다.\")\n",
    "engine.say(\"파이썬으로 이런것도 가능해요\")\n",
    "engine.say(\"하지만 이해못해도 괜챦아요.\")\n",
    "engine.say(\"왜냐하면 우리는 가져다 쓸꺼니까요. 찡긋\")\n",
    "engine.runAndWait()"
   ]
  }
 ],
 "metadata": {
  "kernelspec": {
   "display_name": "Python 3 (ipykernel)",
   "language": "python",
   "name": "python3"
  },
  "language_info": {
   "codemirror_mode": {
    "name": "ipython",
    "version": 3
   },
   "file_extension": ".py",
   "mimetype": "text/x-python",
   "name": "python",
   "nbconvert_exporter": "python",
   "pygments_lexer": "ipython3",
   "version": "3.8.12"
  },
  "toc": {
   "base_numbering": 1,
   "nav_menu": {},
   "number_sections": true,
   "sideBar": true,
   "skip_h1_title": true,
   "title_cell": "Table of Contents",
   "title_sidebar": "Contents",
   "toc_cell": false,
   "toc_position": {},
   "toc_section_display": true,
   "toc_window_display": false
  },
  "varInspector": {
   "cols": {
    "lenName": 16,
    "lenType": 16,
    "lenVar": 40
   },
   "kernels_config": {
    "python": {
     "delete_cmd_postfix": "",
     "delete_cmd_prefix": "del ",
     "library": "var_list.py",
     "varRefreshCmd": "print(var_dic_list())"
    },
    "r": {
     "delete_cmd_postfix": ") ",
     "delete_cmd_prefix": "rm(",
     "library": "var_list.r",
     "varRefreshCmd": "cat(var_dic_list()) "
    }
   },
   "types_to_exclude": [
    "module",
    "function",
    "builtin_function_or_method",
    "instance",
    "_Feature"
   ],
   "window_display": false
  }
 },
 "nbformat": 4,
 "nbformat_minor": 5
}
