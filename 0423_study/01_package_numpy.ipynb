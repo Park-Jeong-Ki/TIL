{
 "cells": [
  {
   "cell_type": "markdown",
   "metadata": {
    "slideshow": {
     "slide_type": "slide"
    }
   },
   "source": [
    "# Numpy (Numeric python)\n",
    "> - 패키지 이름과 같이 **수리적 파이썬 활용**을 위한 파이썬 패키지\n",
    "> - **선형대수학 구현**과 **과학적 컴퓨팅 연산**을 위한 함수를 제공\n",
    "> - (key) `nparray` 다차원 배열을 사용하여 **벡터의 산술 연산**이 가능\n",
    "\n",
    "> - **브로드캐스팅**을 활용하여 shape(형태 혹은 모양)이 다른 데이터의 연산이 가능\n",
    ">> - 기존 언어에서는 제공 X\n",
    ">> - 굉장히 파워풀한 기능으로서 빅데이터 연산에 굉장히 효율이 좋음     "
   ]
  },
  {
   "cell_type": "markdown",
   "metadata": {
    "slideshow": {
     "slide_type": "slide"
    }
   },
   "source": [
    "## Numpy 설치 와 import\n",
    "> - 선행 학습을 통해 클래스와 함수에서 클래스를 불러들여 사용할 수 있다고 배웠습니다.\n",
    "> - 다만 직접 작성한 클래스가 아닐경우, 그리고 현재 컴퓨터에 사용해야 할 패키지가 없을경우 간단한 명령어로 설치가능.\n",
    "\n",
    ">> - `pip`, `conda` 명령어 : python 라이브러리 관리 프로그램으로 오픈소스라이브러리를 간편하게 설치 할 수 있도록 하는 명령어  \n",
    "\n",
    "> 콘솔창에서 실행 시  \n",
    "**`pip` `install` `[패키지명]`** 혹은  \n",
    "**`conda` `install` `[패키지명]`**\n",
    "\n",
    "> 주피터 노트북으로 실행 시  \n",
    "**`!pip` `install` `[패키지명]`**  \n",
    "\n",
    "아나콘다 환경으로 python 환경설정 시 기본적으로 Numpy 설치가 되어있음"
   ]
  },
  {
   "cell_type": "code",
   "execution_count": null,
   "metadata": {
    "ExecuteTime": {
     "end_time": "2021-06-19T02:18:19.360356Z",
     "start_time": "2021-06-19T02:18:16.501938Z"
    },
    "slideshow": {
     "slide_type": "subslide"
    }
   },
   "outputs": [],
   "source": [
    "# 주피터 노트북에서 Numpy 설치\n",
    "!pip install numpy"
   ]
  },
  {
   "cell_type": "code",
   "execution_count": 1,
   "metadata": {
    "ExecuteTime": {
     "end_time": "2022-04-22T00:18:55.400331Z",
     "start_time": "2022-04-22T00:18:55.393738Z"
    },
    "slideshow": {
     "slide_type": "fragment"
    }
   },
   "outputs": [],
   "source": [
    "# Numpy 사용을 위해 패키지 불러들이기\n",
    "import numpy as np\n",
    "# 관례적으로 np라는 약자를 많이 사용하게 됩니다.\n",
    "# 파이썬을 사용하는 대부분의 유저들이 사용하고 있는 닉네임이니 이건 꼭 지켜서 사용해주시는 것을 추천드립니다."
   ]
  },
  {
   "cell_type": "code",
   "execution_count": 4,
   "metadata": {
    "ExecuteTime": {
     "end_time": "2022-04-22T00:23:21.581649Z",
     "start_time": "2022-04-22T00:23:21.569653Z"
    }
   },
   "outputs": [
    {
     "data": {
      "text/plain": [
       "'안'"
      ]
     },
     "execution_count": 4,
     "metadata": {},
     "output_type": "execute_result"
    }
   ],
   "source": [
    "test_list = '안녕하세요'\n",
    "# 리스트는 순서가 있음\n",
    "test_list[0]"
   ]
  },
  {
   "cell_type": "markdown",
   "metadata": {
    "slideshow": {
     "slide_type": "slide"
    }
   },
   "source": [
    "## 데이터분석을 위한 잠깐의 선형대수학\n",
    "numpy는 기본적으로 수리적 컴퓨팅을 위한 패키지 입니다. 선형대수학을 약간만 이해한다면 데이터를 훨씬 더 깊이있게 다룰 수 있습니다.  \n",
    "<img src=\"https://drive.google.com/uc?id=1FIVLOIP-X72PeWS7tgChMEoWCUYtyOqa\">\n",
    "\n",
    "출처 : https://art28.github.io/blog/linear-algebra-1/"
   ]
  },
  {
   "cell_type": "markdown",
   "metadata": {
    "slideshow": {
     "slide_type": "slide"
    }
   },
   "source": [
    "## 데이터의 구분에 따른 표현 방법과 예시\n",
    "\n",
    "#### 스칼라\n",
    "    1, 3.14, 실수 혹은 정수  \n",
    "    \n",
    "#### 벡터\n",
    "    [1, 2, 3, 4], 문자열  \n",
    "    \n",
    "#### 3 X 4 매트릭스\n",
    "    [[1, 2, 3, 4],\n",
    "     [5, 6, 7, 8],\n",
    "     [9, 0, 11, 12]]\n",
    "     \n",
    "#### 2 X 3 X 4 텐서\n",
    "    [[[1, 2, 3, 4],\n",
    "     [5, 6, 7, 8],\n",
    "     [9, 0, 11, 12]],\n",
    "     [[1, 2, 3, 4], \n",
    "     [5, 6, 7, 8],\n",
    "     [9, 0, 11, 12]]]"
   ]
  },
  {
   "cell_type": "markdown",
   "metadata": {
    "ExecuteTime": {
     "end_time": "2021-08-03T02:31:58.163370Z",
     "start_time": "2021-08-03T02:31:58.043519Z"
    }
   },
   "source": [
    "### 데이터로 표현한 선형대수학\n",
    "<img src=\"https://drive.google.com/uc?id=1JXgwhjipPcV147LPIrC2CgT0TmS4jT1R\">\n",
    "\n",
    "출처 : https://m.blog.naver.com/nabilera1/221978354680"
   ]
  },
  {
   "cell_type": "markdown",
   "metadata": {
    "slideshow": {
     "slide_type": "subslide"
    }
   },
   "source": [
    "### 데이터 형태에 따른 사칙연산\n",
    "\n",
    "> 스칼라 +, -, *, / -> 결과도 스칼라  \n",
    "벡터 +, -, 내적 -> +, - 결과는 벡터, 내적 결과는 스칼라  \n",
    "매트릭스 +, -, *, /  \n",
    "텐서 +, -, *, /  "
   ]
  },
  {
   "cell_type": "markdown",
   "metadata": {
    "slideshow": {
     "slide_type": "subslide"
    }
   },
   "source": [
    "### 데이터분석에 자주 사용하는 특수한 연산\n",
    "벡터와 벡터의 내적\n",
    "    \n",
    "$$\\begin{bmatrix}1 & 2 & 3 & 4 \\end{bmatrix} \\times \\begin{bmatrix}1 \\\\ 2 \\\\ 3 \\\\ 4 \\end{bmatrix} = 1 * 1 + \\\n",
    "2 * 2 + 3 * 3 + 4 * 4 = 30$$\n",
    "# $$ A^TA $$"
   ]
  },
  {
   "cell_type": "markdown",
   "metadata": {
    "slideshow": {
     "slide_type": "subslide"
    }
   },
   "source": [
    "#### 벡터와 벡터의 내적이 이루어지려면\n",
    "    \n",
    "    1. 벡터가 마주하는 shape의 갯수(길이)가 같아야 합니다.\n",
    "    2. 연산 앞에 위치한 벡터는 전치(transpose) 되어야 합니다.\n",
    "<img src=\"https://drive.google.com/uc?id=1VdfUo6iFHpTrPd_5RSjJLjlrX_5zWO0v\" height=\"300px\" width=\"300px\">  \n",
    "\n",
    "출처 : https://ko.wikipedia.org/wiki/%EC%A0%84%EC%B9%98%ED%96%89%EB%A0%AC  "
   ]
  },
  {
   "cell_type": "markdown",
   "metadata": {
    "slideshow": {
     "slide_type": "subslide"
    }
   },
   "source": [
    "#### 벡터 내적으로 방정식 구현\n",
    "\n",
    "$$y = \\begin{bmatrix}1 & 2 & 1 \\end{bmatrix} \\times \\begin{bmatrix}x_1 \\\\ x_2 \\\\ x_3 \\\\ \\end{bmatrix} = 1 * x_1 + \\\n",
    "2 * x_2 + 1 * x_3 = x_1 + 2x_2 + x_3$$"
   ]
  },
  {
   "cell_type": "code",
   "execution_count": 6,
   "metadata": {
    "ExecuteTime": {
     "end_time": "2022-04-22T00:36:02.341360Z",
     "start_time": "2022-04-22T00:36:02.335237Z"
    }
   },
   "outputs": [
    {
     "data": {
      "text/plain": [
       "[1, 2, 3, 5]"
      ]
     },
     "execution_count": 6,
     "metadata": {},
     "output_type": "execute_result"
    }
   ],
   "source": [
    "test_list = [1, 2, 3]\n",
    "test_list + [5]"
   ]
  },
  {
   "cell_type": "markdown",
   "metadata": {
    "slideshow": {
     "slide_type": "subslide"
    }
   },
   "source": [
    "## 브로드캐스팅\n",
    "> 파이썬 넘파이 연산은 브로드캐스팅을 지원합니다.  \n",
    "벡터연산 시 shape이 큰 벡터의 길이만큼 shape이 작은 벡터가 연장되어 연산됩니다.\n",
    "\n",
    "<img src=\"https://drive.google.com/uc?id=139z17KEUFNIoJR_-lSnnxepmJAJx--cw\" height=\"500px\" width=\"500px\">  \n",
    "\n",
    "출처 : http://www.astroml.org/book_figures/appendix/fig_broadcast_visual.html"
   ]
  },
  {
   "cell_type": "markdown",
   "metadata": {
    "slideshow": {
     "slide_type": "slide"
    }
   },
   "source": [
    "## Numpy function(유니버셜 함수)\n",
    "> `numpy`는 컴퓨팅연산을 위한 다양한 연산함수를 제공합니다.  \n",
    ">> 연산함수 기본구조  \n",
    "ex) **`np.sum`**(연산대상, axis=연산방향)  \n",
    "**`dtype()`**"
   ]
  },
  {
   "cell_type": "markdown",
   "metadata": {
    "slideshow": {
     "slide_type": "subslide"
    }
   },
   "source": [
    "### 수리연산\n",
    "- **`prod()`**\n",
    "- **`dot()`**\n",
    "- **`sum()`**\n",
    "- **`cumprod()`**\n",
    "- **`cumsum()`**\n",
    "- **`abs()`**\n",
    "- **`sqaure()`**\n",
    "- **`sqrt()`**\n",
    "- **`exp()`**\n",
    "- **`log()`**"
   ]
  },
  {
   "cell_type": "markdown",
   "metadata": {
    "slideshow": {
     "slide_type": "subslide"
    }
   },
   "source": [
    "### 통계연산\n",
    "- **`mean()`**\n",
    "- **`std()`**\n",
    "- **`var()`**\n",
    "- **`max()`**\n",
    "- **`min()`**\n",
    "- **`argmax()`**\n",
    "- **`argmin()`**"
   ]
  },
  {
   "cell_type": "markdown",
   "metadata": {
    "slideshow": {
     "slide_type": "subslide"
    }
   },
   "source": [
    "### 로직연산\n",
    "- **`arange()`**\n",
    "- **`isnan()`**\n",
    "- **`isinf()`**\n",
    "- **`unique()`**"
   ]
  },
  {
   "cell_type": "markdown",
   "metadata": {
    "slideshow": {
     "slide_type": "subslide"
    }
   },
   "source": [
    "### 기하\n",
    "- **`shape()`**\n",
    "- **`reshape()`**\n",
    "- **`ndim()`**\n",
    "- **`transpose()`**\n",
    "    \n",
    "각종 연산 함수 참고: https://numpy.org/doc/stable/reference/routines.math.html"
   ]
  },
  {
   "cell_type": "markdown",
   "metadata": {},
   "source": [
    "### numpy 함수 실습"
   ]
  },
  {
   "cell_type": "code",
   "execution_count": 7,
   "metadata": {
    "ExecuteTime": {
     "end_time": "2022-04-22T00:38:46.849463Z",
     "start_time": "2022-04-22T00:38:46.840118Z"
    },
    "slideshow": {
     "slide_type": "slide"
    }
   },
   "outputs": [],
   "source": [
    "# 함수 예제를 위한 데이터셋\n",
    "test_list = [1, 2, 3, 4]\n",
    "test_list2 = [[1, 3], [5, 7]]\n",
    "test_flist = [1, 3.14, -4.5]\n",
    "test_list_2nd = [[1, 2, 3],\n",
    "              [4, 5, 6],\n",
    "              [7, 8, 9]]\n",
    "\n",
    "test_list_3rd = [[[1, 2, 3, 4],\n",
    "              [5, 6, 7, 8]],\n",
    "              \n",
    "              [[1, 2, 3, 4],\n",
    "               [5, 6, 7, 8]],\n",
    "\n",
    "              [[1, 2, 3, 4],\n",
    "               [5, 6, 7, 8]]]\n",
    "test_exp = [0, 1, 10]\n",
    "test_nan = [0, np.nan, np.inf]"
   ]
  },
  {
   "cell_type": "code",
   "execution_count": 8,
   "metadata": {
    "ExecuteTime": {
     "end_time": "2022-04-22T00:39:26.053788Z",
     "start_time": "2022-04-22T00:39:26.045837Z"
    },
    "slideshow": {
     "slide_type": "subslide"
    }
   },
   "outputs": [
    {
     "data": {
      "text/plain": [
       "24"
      ]
     },
     "execution_count": 8,
     "metadata": {},
     "output_type": "execute_result"
    }
   ],
   "source": [
    "# 곱연산\n",
    "np.prod(test_list)"
   ]
  },
  {
   "cell_type": "code",
   "execution_count": null,
   "metadata": {
    "ExecuteTime": {
     "end_time": "2021-09-10T05:09:46.116420Z",
     "start_time": "2021-09-10T05:09:46.110493Z"
    },
    "slideshow": {
     "slide_type": "subslide"
    }
   },
   "outputs": [],
   "source": [
    "# 합연산\n"
   ]
  },
  {
   "cell_type": "code",
   "execution_count": 9,
   "metadata": {
    "ExecuteTime": {
     "end_time": "2022-04-22T00:39:49.029058Z",
     "start_time": "2022-04-22T00:39:49.015485Z"
    },
    "slideshow": {
     "slide_type": "subslide"
    }
   },
   "outputs": [
    {
     "data": {
      "text/plain": [
       "array([ 1,  2,  6, 24])"
      ]
     },
     "execution_count": 9,
     "metadata": {},
     "output_type": "execute_result"
    }
   ],
   "source": [
    "# 누적곱연산\n",
    "np.cumprod(test_list)"
   ]
  },
  {
   "cell_type": "code",
   "execution_count": 11,
   "metadata": {
    "ExecuteTime": {
     "end_time": "2022-04-22T00:40:31.934230Z",
     "start_time": "2022-04-22T00:40:31.924219Z"
    },
    "slideshow": {
     "slide_type": "subslide"
    }
   },
   "outputs": [
    {
     "data": {
      "text/plain": [
       "array([ 1,  3,  6, 10])"
      ]
     },
     "execution_count": 11,
     "metadata": {},
     "output_type": "execute_result"
    }
   ],
   "source": [
    "# 누적합연산\n",
    "# 누적수익률\n",
    "np.cumsum(test_list)"
   ]
  },
  {
   "cell_type": "code",
   "execution_count": 12,
   "metadata": {
    "ExecuteTime": {
     "end_time": "2022-04-22T00:41:06.501786Z",
     "start_time": "2022-04-22T00:41:06.494801Z"
    }
   },
   "outputs": [
    {
     "data": {
      "text/plain": [
       "[1, 3.14, -4.5]"
      ]
     },
     "execution_count": 12,
     "metadata": {},
     "output_type": "execute_result"
    }
   ],
   "source": [
    "test_flist"
   ]
  },
  {
   "cell_type": "code",
   "execution_count": null,
   "metadata": {
    "ExecuteTime": {
     "end_time": "2021-09-10T05:12:11.972345Z",
     "start_time": "2021-09-10T05:12:11.963131Z"
    },
    "slideshow": {
     "slide_type": "subslide"
    }
   },
   "outputs": [],
   "source": [
    "# 절대값\n"
   ]
  },
  {
   "cell_type": "code",
   "execution_count": null,
   "metadata": {
    "ExecuteTime": {
     "end_time": "2021-06-19T04:07:45.726523Z",
     "start_time": "2021-06-19T04:07:45.720686Z"
    },
    "slideshow": {
     "slide_type": "subslide"
    }
   },
   "outputs": [],
   "source": [
    "# 제곱\n"
   ]
  },
  {
   "cell_type": "code",
   "execution_count": null,
   "metadata": {
    "ExecuteTime": {
     "end_time": "2021-06-19T04:11:03.369518Z",
     "start_time": "2021-06-19T04:11:03.358175Z"
    },
    "slideshow": {
     "slide_type": "subslide"
    }
   },
   "outputs": [],
   "source": [
    "# 루트\n"
   ]
  },
  {
   "cell_type": "code",
   "execution_count": null,
   "metadata": {
    "ExecuteTime": {
     "end_time": "2021-06-19T04:11:18.225586Z",
     "start_time": "2021-06-19T04:11:18.219116Z"
    },
    "slideshow": {
     "slide_type": "subslide"
    }
   },
   "outputs": [],
   "source": [
    "# exp\n"
   ]
  },
  {
   "cell_type": "code",
   "execution_count": null,
   "metadata": {
    "ExecuteTime": {
     "end_time": "2021-08-03T05:01:19.591520Z",
     "start_time": "2021-08-03T05:01:19.585551Z"
    },
    "slideshow": {
     "slide_type": "subslide"
    }
   },
   "outputs": [],
   "source": [
    "# 로그\n"
   ]
  },
  {
   "cell_type": "markdown",
   "metadata": {},
   "source": [
    "## 통계값"
   ]
  },
  {
   "cell_type": "code",
   "execution_count": null,
   "metadata": {
    "ExecuteTime": {
     "end_time": "2021-09-10T05:13:37.170636Z",
     "start_time": "2021-09-10T05:13:37.164700Z"
    }
   },
   "outputs": [],
   "source": [
    "test_list"
   ]
  },
  {
   "cell_type": "code",
   "execution_count": null,
   "metadata": {
    "ExecuteTime": {
     "end_time": "2021-09-10T05:13:30.853608Z",
     "start_time": "2021-09-10T05:13:30.844952Z"
    },
    "slideshow": {
     "slide_type": "subslide"
    }
   },
   "outputs": [],
   "source": [
    "# 평균\n"
   ]
  },
  {
   "cell_type": "code",
   "execution_count": null,
   "metadata": {
    "ExecuteTime": {
     "end_time": "2021-09-10T05:13:56.366791Z",
     "start_time": "2021-09-10T05:13:56.358622Z"
    },
    "slideshow": {
     "slide_type": "subslide"
    }
   },
   "outputs": [],
   "source": [
    "# 표준편차\n"
   ]
  },
  {
   "cell_type": "code",
   "execution_count": null,
   "metadata": {
    "ExecuteTime": {
     "end_time": "2021-09-10T05:14:06.823565Z",
     "start_time": "2021-09-10T05:14:06.815675Z"
    },
    "slideshow": {
     "slide_type": "subslide"
    }
   },
   "outputs": [],
   "source": [
    "# 분산\n"
   ]
  },
  {
   "cell_type": "code",
   "execution_count": null,
   "metadata": {
    "ExecuteTime": {
     "end_time": "2021-06-19T04:12:27.542508Z",
     "start_time": "2021-06-19T04:12:27.534606Z"
    },
    "slideshow": {
     "slide_type": "subslide"
    }
   },
   "outputs": [],
   "source": [
    "# 최대값\n"
   ]
  },
  {
   "cell_type": "code",
   "execution_count": null,
   "metadata": {
    "ExecuteTime": {
     "end_time": "2021-06-19T04:12:33.511575Z",
     "start_time": "2021-06-19T04:12:33.502964Z"
    },
    "slideshow": {
     "slide_type": "subslide"
    }
   },
   "outputs": [],
   "source": [
    "# 최소값\n"
   ]
  },
  {
   "cell_type": "code",
   "execution_count": null,
   "metadata": {
    "ExecuteTime": {
     "end_time": "2021-09-10T05:15:23.830359Z",
     "start_time": "2021-09-10T05:15:23.823549Z"
    }
   },
   "outputs": [],
   "source": [
    "test_list_2nd"
   ]
  },
  {
   "cell_type": "code",
   "execution_count": 14,
   "metadata": {
    "ExecuteTime": {
     "end_time": "2022-04-22T00:42:15.054840Z",
     "start_time": "2022-04-22T00:42:15.045945Z"
    }
   },
   "outputs": [
    {
     "data": {
      "text/plain": [
       "[1, 2, 3, 4]"
      ]
     },
     "execution_count": 14,
     "metadata": {},
     "output_type": "execute_result"
    }
   ],
   "source": [
    "test_list"
   ]
  },
  {
   "cell_type": "code",
   "execution_count": 13,
   "metadata": {
    "ExecuteTime": {
     "end_time": "2022-04-22T00:42:08.465222Z",
     "start_time": "2022-04-22T00:42:08.454951Z"
    },
    "slideshow": {
     "slide_type": "subslide"
    }
   },
   "outputs": [
    {
     "data": {
      "text/plain": [
       "3"
      ]
     },
     "execution_count": 13,
     "metadata": {},
     "output_type": "execute_result"
    }
   ],
   "source": [
    "# 자주 사용합니다.\n",
    "# 최대값 존재하고 있는 인덱스 넘버를 리턴\n",
    "# 출력값이 인덱스\n",
    "np.argmax(test_list)"
   ]
  },
  {
   "cell_type": "code",
   "execution_count": 15,
   "metadata": {
    "ExecuteTime": {
     "end_time": "2022-04-22T00:42:57.700705Z",
     "start_time": "2022-04-22T00:42:57.688234Z"
    },
    "slideshow": {
     "slide_type": "subslide"
    }
   },
   "outputs": [
    {
     "data": {
      "text/plain": [
       "0"
      ]
     },
     "execution_count": 15,
     "metadata": {},
     "output_type": "execute_result"
    }
   ],
   "source": [
    "# 최소값 인덱스\n",
    "# argmax보다는 덜 쓰이지만 자주 보임\n",
    "np.argmin(test_list)"
   ]
  },
  {
   "cell_type": "code",
   "execution_count": 17,
   "metadata": {
    "ExecuteTime": {
     "end_time": "2022-04-22T00:43:18.041024Z",
     "start_time": "2022-04-22T00:43:18.030732Z"
    },
    "slideshow": {
     "slide_type": "subslide"
    }
   },
   "outputs": [
    {
     "data": {
      "text/plain": [
       "array([0, 1, 2, 3, 4, 5, 6, 7, 8, 9])"
      ]
     },
     "execution_count": 17,
     "metadata": {},
     "output_type": "execute_result"
    }
   ],
   "source": [
    "# 범위설정\n",
    "# (시작포인트, 마지막포인트 + 1, 스텝수)\n",
    "# range() 함수와 동일하게 작동함\n",
    "# for i in range(0, 100, 10):\n",
    "#     print(i)\n",
    "np.arange(10)"
   ]
  },
  {
   "cell_type": "code",
   "execution_count": 18,
   "metadata": {
    "ExecuteTime": {
     "end_time": "2022-04-22T00:43:55.874823Z",
     "start_time": "2022-04-22T00:43:55.865234Z"
    }
   },
   "outputs": [
    {
     "data": {
      "text/plain": [
       "array([ 0.        ,  0.20408163,  0.40816327,  0.6122449 ,  0.81632653,\n",
       "        1.02040816,  1.2244898 ,  1.42857143,  1.63265306,  1.83673469,\n",
       "        2.04081633,  2.24489796,  2.44897959,  2.65306122,  2.85714286,\n",
       "        3.06122449,  3.26530612,  3.46938776,  3.67346939,  3.87755102,\n",
       "        4.08163265,  4.28571429,  4.48979592,  4.69387755,  4.89795918,\n",
       "        5.10204082,  5.30612245,  5.51020408,  5.71428571,  5.91836735,\n",
       "        6.12244898,  6.32653061,  6.53061224,  6.73469388,  6.93877551,\n",
       "        7.14285714,  7.34693878,  7.55102041,  7.75510204,  7.95918367,\n",
       "        8.16326531,  8.36734694,  8.57142857,  8.7755102 ,  8.97959184,\n",
       "        9.18367347,  9.3877551 ,  9.59183673,  9.79591837, 10.        ])"
      ]
     },
     "execution_count": 18,
     "metadata": {},
     "output_type": "execute_result"
    }
   ],
   "source": [
    "# 범위 데이터 생성\n",
    "# (시작값, 마지막값 + 1, 데이터갯수)\n",
    "np.linspace(0, 10, 50)"
   ]
  },
  {
   "cell_type": "code",
   "execution_count": null,
   "metadata": {
    "ExecuteTime": {
     "end_time": "2021-09-10T05:22:33.862908Z",
     "start_time": "2021-09-10T05:22:33.857150Z"
    }
   },
   "outputs": [],
   "source": [
    "test_nan"
   ]
  },
  {
   "cell_type": "code",
   "execution_count": null,
   "metadata": {
    "ExecuteTime": {
     "end_time": "2021-09-10T05:23:04.766328Z",
     "start_time": "2021-09-10T05:23:04.759827Z"
    },
    "slideshow": {
     "slide_type": "subslide"
    }
   },
   "outputs": [],
   "source": [
    "# 결측 확인\n"
   ]
  },
  {
   "cell_type": "code",
   "execution_count": null,
   "metadata": {
    "ExecuteTime": {
     "end_time": "2021-09-10T05:23:29.589356Z",
     "start_time": "2021-09-10T05:23:29.582563Z"
    },
    "slideshow": {
     "slide_type": "subslide"
    }
   },
   "outputs": [],
   "source": [
    "# 발산 확인\n"
   ]
  },
  {
   "cell_type": "code",
   "execution_count": 19,
   "metadata": {
    "ExecuteTime": {
     "end_time": "2022-04-22T00:45:08.851680Z",
     "start_time": "2022-04-22T00:45:08.842352Z"
    }
   },
   "outputs": [
    {
     "data": {
      "text/plain": [
       "[[[1, 2, 3, 4], [5, 6, 7, 8]],\n",
       " [[1, 2, 3, 4], [5, 6, 7, 8]],\n",
       " [[1, 2, 3, 4], [5, 6, 7, 8]]]"
      ]
     },
     "execution_count": 19,
     "metadata": {},
     "output_type": "execute_result"
    }
   ],
   "source": [
    "test_list_3rd"
   ]
  },
  {
   "cell_type": "code",
   "execution_count": 20,
   "metadata": {
    "ExecuteTime": {
     "end_time": "2022-04-22T00:45:29.225000Z",
     "start_time": "2022-04-22T00:45:29.213971Z"
    },
    "slideshow": {
     "slide_type": "subslide"
    }
   },
   "outputs": [
    {
     "data": {
      "text/plain": [
       "array([1, 2, 3, 4, 5, 6, 7, 8])"
      ]
     },
     "execution_count": 20,
     "metadata": {},
     "output_type": "execute_result"
    }
   ],
   "source": [
    "# 고유값 확인\n",
    "np.unique(test_list_3rd)"
   ]
  },
  {
   "cell_type": "code",
   "execution_count": 21,
   "metadata": {
    "ExecuteTime": {
     "end_time": "2022-04-22T00:45:52.912341Z",
     "start_time": "2022-04-22T00:45:52.905821Z"
    },
    "slideshow": {
     "slide_type": "subslide"
    }
   },
   "outputs": [
    {
     "data": {
      "text/plain": [
       "(3, 2, 4)"
      ]
     },
     "execution_count": 21,
     "metadata": {},
     "output_type": "execute_result"
    }
   ],
   "source": [
    "# 데이터 구조(모양)확인\n",
    "np.shape(test_list_3rd)"
   ]
  },
  {
   "cell_type": "code",
   "execution_count": 26,
   "metadata": {
    "ExecuteTime": {
     "end_time": "2022-04-22T00:49:34.113816Z",
     "start_time": "2022-04-22T00:49:34.106211Z"
    },
    "slideshow": {
     "slide_type": "subslide"
    }
   },
   "outputs": [
    {
     "data": {
      "text/plain": [
       "array([[[[1, 2, 3],\n",
       "         [4, 5, 6]],\n",
       "\n",
       "        [[7, 8, 1],\n",
       "         [2, 3, 4]]],\n",
       "\n",
       "\n",
       "       [[[5, 6, 7],\n",
       "         [8, 1, 2]],\n",
       "\n",
       "        [[3, 4, 5],\n",
       "         [6, 7, 8]]]])"
      ]
     },
     "execution_count": 26,
     "metadata": {},
     "output_type": "execute_result"
    }
   ],
   "source": [
    "# 데이터 shape 변경\n",
    "# 어떤 조건에서 reshape가능한가? 데이터 내부에 존재하는 속성 갯수가 같아야 함.\n",
    "np.reshape(test_list_3rd, (2, 2, 2, 3))"
   ]
  },
  {
   "cell_type": "code",
   "execution_count": null,
   "metadata": {
    "ExecuteTime": {
     "end_time": "2021-09-10T05:30:37.880633Z",
     "start_time": "2021-09-10T05:30:37.875952Z"
    }
   },
   "outputs": [],
   "source": [
    "np.shape(test_list_3rd)"
   ]
  },
  {
   "cell_type": "code",
   "execution_count": 27,
   "metadata": {
    "ExecuteTime": {
     "end_time": "2022-04-22T00:50:05.125245Z",
     "start_time": "2022-04-22T00:50:05.109298Z"
    },
    "slideshow": {
     "slide_type": "subslide"
    }
   },
   "outputs": [
    {
     "data": {
      "text/plain": [
       "3"
      ]
     },
     "execution_count": 27,
     "metadata": {},
     "output_type": "execute_result"
    }
   ],
   "source": [
    "# 데이터 차원확인\n",
    "# 데이터가 존재하는 축방향이 늘어나면 차원수도 늘어남\n",
    "# 기하학적 데이터의 차원수를 이야기하고\n",
    "# 데이터분석을 할 때는 열기준으로 차원을 이야기 합니다.\n",
    "np.ndim(test_list_3rd)"
   ]
  },
  {
   "cell_type": "code",
   "execution_count": null,
   "metadata": {
    "ExecuteTime": {
     "end_time": "2021-09-10T05:33:44.542351Z",
     "start_time": "2021-09-10T05:33:44.536058Z"
    },
    "slideshow": {
     "slide_type": "subslide"
    }
   },
   "outputs": [],
   "source": [
    "# 전치행렬\n"
   ]
  },
  {
   "cell_type": "markdown",
   "metadata": {
    "slideshow": {
     "slide_type": "slide"
    }
   },
   "source": [
    "## Numpy array (배열, 행렬)\n",
    "> - numpy 연산의 기본이 되는 데이터 구조입니다.  \n",
    "> - 리스트보다 간편하게 만들 수 있으며 **연산이 빠른** 장점이 있습니다.  \n",
    "> - **브로드캐스팅 연산을 지원**합니다.  \n",
    "> - 단, **같은 type**의 데이터만 저장 가능합니다.  \n",
    "> - array 또한 numpy의 기본 함수로서 생성 가능합니다.  \n",
    "\n",
    ">> array 함수 호출 기본구조  \n",
    "ex) **`np.array(배열변환 대상 데이터)`**  \n",
    "ex) **`np.arange(start, end, step_forward)`**"
   ]
  },
  {
   "cell_type": "markdown",
   "metadata": {},
   "source": [
    "### numpy array 실습"
   ]
  },
  {
   "cell_type": "code",
   "execution_count": 48,
   "metadata": {
    "ExecuteTime": {
     "end_time": "2022-04-22T01:15:52.900600Z",
     "start_time": "2022-04-22T01:15:52.887681Z"
    },
    "slideshow": {
     "slide_type": "subslide"
    }
   },
   "outputs": [],
   "source": [
    "# 기존 데이터 구조를 array로 변환\n",
    "test_list = [1, 2 ,3, 4]\n",
    "test_array = np.array(test_list)\n",
    "test_array2 = np.array(test_list2)\n",
    "test_farray = np.array(test_flist)\n",
    "test_array_2nd = np.array(test_list_2nd)\n",
    "test_array_3rd = np.array(test_list_3rd)"
   ]
  },
  {
   "cell_type": "code",
   "execution_count": 30,
   "metadata": {
    "ExecuteTime": {
     "end_time": "2022-04-22T01:07:13.514861Z",
     "start_time": "2022-04-22T01:07:13.508495Z"
    }
   },
   "outputs": [
    {
     "data": {
      "text/plain": [
       "array([[[1, 2, 3, 4],\n",
       "        [5, 6, 7, 8]],\n",
       "\n",
       "       [[1, 2, 3, 4],\n",
       "        [5, 6, 7, 8]],\n",
       "\n",
       "       [[1, 2, 3, 4],\n",
       "        [5, 6, 7, 8]]])"
      ]
     },
     "execution_count": 30,
     "metadata": {},
     "output_type": "execute_result"
    }
   ],
   "source": [
    "# array 생성 확인\n",
    "test_array_3rd"
   ]
  },
  {
   "cell_type": "code",
   "execution_count": 32,
   "metadata": {
    "ExecuteTime": {
     "end_time": "2022-04-22T01:08:26.473059Z",
     "start_time": "2022-04-22T01:08:26.459598Z"
    }
   },
   "outputs": [
    {
     "data": {
      "text/plain": [
       "array(['1', '2', '3', '4', '안녕', '안녕'], dtype='<U21')"
      ]
     },
     "execution_count": 32,
     "metadata": {},
     "output_type": "execute_result"
    }
   ],
   "source": [
    "# 같은 타입의 데이터만 들어가는지 확인\n",
    "test_list.append('안녕')\n",
    "test_array = np.array(test_list)\n",
    "test_array"
   ]
  },
  {
   "cell_type": "code",
   "execution_count": 34,
   "metadata": {
    "ExecuteTime": {
     "end_time": "2022-04-22T01:09:43.733867Z",
     "start_time": "2022-04-22T01:09:43.727824Z"
    },
    "slideshow": {
     "slide_type": "subslide"
    }
   },
   "outputs": [
    {
     "data": {
      "text/plain": [
       "array([[ 0,  1,  2,  3,  4],\n",
       "       [ 5,  6,  7,  8,  9],\n",
       "       [10, 11, 12, 13, 14],\n",
       "       [15, 16, 17, 18, 19],\n",
       "       [20, 21, 22, 23, 24]])"
      ]
     },
     "execution_count": 34,
     "metadata": {},
     "output_type": "execute_result"
    }
   ],
   "source": [
    "# np.arange 함수로 생성\n",
    "np.arange(25).reshape(5, 5)"
   ]
  },
  {
   "cell_type": "markdown",
   "metadata": {
    "slideshow": {
     "slide_type": "slide"
    }
   },
   "source": [
    "### 특수한 형태의 array를 함수로 생성\n",
    "함수 호출의 기본구조\n",
    "> ex) **`np.ones([자료구조 shape])`**  \n",
    "> 자료구조 shape은 정수, **[ ]**리스트, **( )** 튜플 로만 입력가능합니다.\n",
    "\n",
    ">> - ones()  \n",
    ">> - zeros()  \n",
    ">> - empty()  \n",
    ">> - eye()"
   ]
  },
  {
   "cell_type": "code",
   "execution_count": 35,
   "metadata": {
    "ExecuteTime": {
     "end_time": "2022-04-22T01:10:27.753279Z",
     "start_time": "2022-04-22T01:10:27.746876Z"
    },
    "slideshow": {
     "slide_type": "subslide"
    }
   },
   "outputs": [
    {
     "data": {
      "text/plain": [
       "array([[1., 1., 1., 1., 1.],\n",
       "       [1., 1., 1., 1., 1.],\n",
       "       [1., 1., 1., 1., 1.],\n",
       "       [1., 1., 1., 1., 1.],\n",
       "       [1., 1., 1., 1., 1.]])"
      ]
     },
     "execution_count": 35,
     "metadata": {},
     "output_type": "execute_result"
    }
   ],
   "source": [
    "# 1로 초기화한 array 생성\n",
    "np.ones((5, 5))"
   ]
  },
  {
   "cell_type": "code",
   "execution_count": null,
   "metadata": {
    "ExecuteTime": {
     "end_time": "2021-09-10T06:04:05.457164Z",
     "start_time": "2021-09-10T06:04:05.451399Z"
    },
    "slideshow": {
     "slide_type": "subslide"
    }
   },
   "outputs": [],
   "source": [
    "# 0으로 초기화\n"
   ]
  },
  {
   "cell_type": "code",
   "execution_count": null,
   "metadata": {
    "ExecuteTime": {
     "end_time": "2021-09-10T06:05:07.127161Z",
     "start_time": "2021-09-10T06:05:07.121604Z"
    },
    "slideshow": {
     "slide_type": "subslide"
    }
   },
   "outputs": [],
   "source": [
    "# 빈 값으로 초기화\n"
   ]
  },
  {
   "cell_type": "code",
   "execution_count": null,
   "metadata": {
    "ExecuteTime": {
     "end_time": "2021-09-10T06:11:41.461776Z",
     "start_time": "2021-09-10T06:11:41.455598Z"
    },
    "slideshow": {
     "slide_type": "subslide"
    }
   },
   "outputs": [],
   "source": [
    "# 항등행렬 초기화\n",
    "# 항등행렬의 수학적 의미는 항등행렬 X A = A\n",
    "# shape이 안맞는 경우 연산이 가능하도록 할 때\n"
   ]
  },
  {
   "cell_type": "markdown",
   "metadata": {
    "slideshow": {
     "slide_type": "slide"
    }
   },
   "source": [
    "### array 속성 및 내장함수\n",
    "`np.array` 에는 유용한 수리, 통계 연산을 위한 함수가 갖추어져 있습니다. 다차원 기하학적 연산을 위한 함수도 함께 살펴보겠습니다.  \n",
    "    \n",
    "> array 내장 속성 호출 기본구조  \n",
    "ex) **`test_array.ndim`**  \n",
    "자주 사용하는 속성 `shape`, `dtype`, `ndim`\n",
    "    \n",
    "> array 내장함수 호출 기본구조  \n",
    "ex) **`test_array.prod()`**\n",
    "    \n",
    "위에 학습한 np.sum() 과는 달리 array 변수의 인자를 받아 그대로 사용합니다."
   ]
  },
  {
   "cell_type": "markdown",
   "metadata": {
    "slideshow": {
     "slide_type": "subslide"
    }
   },
   "source": [
    "#### array 속성"
   ]
  },
  {
   "cell_type": "code",
   "execution_count": 39,
   "metadata": {
    "ExecuteTime": {
     "end_time": "2022-04-22T01:12:16.583857Z",
     "start_time": "2022-04-22T01:12:16.574775Z"
    },
    "slideshow": {
     "slide_type": "fragment"
    }
   },
   "outputs": [
    {
     "data": {
      "text/plain": [
       "4"
      ]
     },
     "execution_count": 39,
     "metadata": {},
     "output_type": "execute_result"
    }
   ],
   "source": [
    "# 데이터 타입확인\n",
    "test_array.argmax()"
   ]
  },
  {
   "cell_type": "code",
   "execution_count": 40,
   "metadata": {
    "ExecuteTime": {
     "end_time": "2022-04-22T01:13:01.666836Z",
     "start_time": "2022-04-22T01:13:01.656438Z"
    },
    "slideshow": {
     "slide_type": "subslide"
    }
   },
   "outputs": [
    {
     "data": {
      "text/plain": [
       "(6,)"
      ]
     },
     "execution_count": 40,
     "metadata": {},
     "output_type": "execute_result"
    }
   ],
   "source": [
    "# 데이터구조 확인\n",
    "# np.shape()\n",
    "test_array.shape"
   ]
  },
  {
   "cell_type": "code",
   "execution_count": null,
   "metadata": {
    "ExecuteTime": {
     "end_time": "2021-09-10T06:20:10.057116Z",
     "start_time": "2021-09-10T06:20:10.053090Z"
    },
    "slideshow": {
     "slide_type": "subslide"
    }
   },
   "outputs": [],
   "source": [
    "# 데이터 차원 확인\n"
   ]
  },
  {
   "cell_type": "code",
   "execution_count": null,
   "metadata": {
    "ExecuteTime": {
     "end_time": "2021-09-10T06:29:16.069671Z",
     "start_time": "2021-09-10T06:29:16.064815Z"
    },
    "slideshow": {
     "slide_type": "subslide"
    }
   },
   "outputs": [],
   "source": [
    "# 전치행렬\n"
   ]
  },
  {
   "cell_type": "markdown",
   "metadata": {
    "slideshow": {
     "slide_type": "slide"
    }
   },
   "source": [
    "#### array 내장함수"
   ]
  },
  {
   "cell_type": "code",
   "execution_count": null,
   "metadata": {
    "ExecuteTime": {
     "end_time": "2021-09-10T06:30:44.690675Z",
     "start_time": "2021-09-10T06:30:44.686617Z"
    }
   },
   "outputs": [],
   "source": [
    "test_array"
   ]
  },
  {
   "cell_type": "code",
   "execution_count": null,
   "metadata": {
    "ExecuteTime": {
     "end_time": "2021-09-10T06:33:07.374789Z",
     "start_time": "2021-09-10T06:33:07.369909Z"
    }
   },
   "outputs": [],
   "source": [
    "# 내장함수 호출\n"
   ]
  },
  {
   "cell_type": "code",
   "execution_count": null,
   "metadata": {
    "slideshow": {
     "slide_type": "fragment"
    }
   },
   "outputs": [],
   "source": [
    "# numpy 함수와 키워드가 같습니다.\n"
   ]
  },
  {
   "cell_type": "markdown",
   "metadata": {
    "slideshow": {
     "slide_type": "slide"
    }
   },
   "source": [
    "### array 연산\n",
    "컴퓨팅 연산을 위한 패키지인 만큼 편리한 배열 연산 기능을 지원합니다. 여러 array 연산을 통해 다른 자료구조와의 연산 차이를 알아봅시다."
   ]
  },
  {
   "cell_type": "code",
   "execution_count": 43,
   "metadata": {
    "ExecuteTime": {
     "end_time": "2022-04-22T01:14:46.473705Z",
     "start_time": "2022-04-22T01:14:46.465892Z"
    }
   },
   "outputs": [
    {
     "data": {
      "text/plain": [
       "[1, 2, 3, 4, '안녕', '안녕', 5]"
      ]
     },
     "execution_count": 43,
     "metadata": {},
     "output_type": "execute_result"
    }
   ],
   "source": [
    "# 리스트연산 test\n",
    "test_list + [5]"
   ]
  },
  {
   "cell_type": "code",
   "execution_count": 49,
   "metadata": {
    "ExecuteTime": {
     "end_time": "2022-04-22T01:15:59.305336Z",
     "start_time": "2022-04-22T01:15:59.297727Z"
    },
    "slideshow": {
     "slide_type": "subslide"
    }
   },
   "outputs": [
    {
     "data": {
      "text/plain": [
       "array([6, 7, 8, 9])"
      ]
     },
     "execution_count": 49,
     "metadata": {},
     "output_type": "execute_result"
    }
   ],
   "source": [
    "# array 덧셈, 뺄셈, 곱셈, 나눗셈\n",
    "test_array + 5"
   ]
  },
  {
   "cell_type": "code",
   "execution_count": 50,
   "metadata": {
    "ExecuteTime": {
     "end_time": "2022-04-22T01:18:03.869165Z",
     "start_time": "2022-04-22T01:18:01.178926Z"
    },
    "slideshow": {
     "slide_type": "fragment"
    }
   },
   "outputs": [],
   "source": [
    "# 실제 연산속도 차이를 확인하기 위한 큰 데이터 생성\n",
    "big_list = [i for i in range(50000000)] # 3배 빠름\n",
    "big_array = np.array(big_list)"
   ]
  },
  {
   "cell_type": "code",
   "execution_count": 51,
   "metadata": {
    "ExecuteTime": {
     "end_time": "2022-04-22T01:19:27.092173Z",
     "start_time": "2022-04-22T01:19:25.863661Z"
    }
   },
   "outputs": [],
   "source": [
    "# 리스트연산테스트\n",
    "big_list2 = [i + 1 for i in big_list]"
   ]
  },
  {
   "cell_type": "code",
   "execution_count": 52,
   "metadata": {
    "ExecuteTime": {
     "end_time": "2022-04-22T01:20:08.865826Z",
     "start_time": "2022-04-22T01:20:08.768201Z"
    }
   },
   "outputs": [
    {
     "data": {
      "text/plain": [
       "array([       1,        2,        3, ..., 49999998, 49999999, 50000000])"
      ]
     },
     "execution_count": 52,
     "metadata": {},
     "output_type": "execute_result"
    }
   ],
   "source": [
    "# 8배 20배\n",
    "big_array + 1"
   ]
  },
  {
   "cell_type": "code",
   "execution_count": 2,
   "metadata": {
    "ExecuteTime": {
     "end_time": "2022-04-22T01:24:14.260488Z",
     "start_time": "2022-04-22T01:24:14.257417Z"
    }
   },
   "outputs": [],
   "source": [
    "import numpy as np"
   ]
  },
  {
   "cell_type": "code",
   "execution_count": 7,
   "metadata": {
    "ExecuteTime": {
     "end_time": "2022-04-22T01:25:27.649058Z",
     "start_time": "2022-04-22T01:25:27.643964Z"
    },
    "slideshow": {
     "slide_type": "subslide"
    }
   },
   "outputs": [],
   "source": [
    "# 행렬내적\n",
    "a = np.arange(24).reshape(4, 6)\n",
    "b = np.arange(24).reshape(8, 3)"
   ]
  },
  {
   "cell_type": "code",
   "execution_count": 8,
   "metadata": {
    "ExecuteTime": {
     "end_time": "2022-04-22T01:25:29.259018Z",
     "start_time": "2022-04-22T01:25:29.001379Z"
    },
    "slideshow": {
     "slide_type": "fragment"
    }
   },
   "outputs": [
    {
     "ename": "ValueError",
     "evalue": "matmul: Input operand 1 has a mismatch in its core dimension 0, with gufunc signature (n?,k),(k,m?)->(n?,m?) (size 8 is different from 6)",
     "output_type": "error",
     "traceback": [
      "\u001b[0;31m---------------------------------------------------------------------------\u001b[0m",
      "\u001b[0;31mValueError\u001b[0m                                Traceback (most recent call last)",
      "Input \u001b[0;32mIn [8]\u001b[0m, in \u001b[0;36m<module>\u001b[0;34m\u001b[0m\n\u001b[1;32m      1\u001b[0m \u001b[38;5;66;03m# 행렬내적 연산\u001b[39;00m\n\u001b[0;32m----> 2\u001b[0m \u001b[43ma\u001b[49m\u001b[43m \u001b[49m\u001b[38;5;241;43m@\u001b[39;49m\u001b[43m \u001b[49m\u001b[43mb\u001b[49m\n",
      "\u001b[0;31mValueError\u001b[0m: matmul: Input operand 1 has a mismatch in its core dimension 0, with gufunc signature (n?,k),(k,m?)->(n?,m?) (size 8 is different from 6)"
     ]
    }
   ],
   "source": [
    "# 행렬내적 연산\n",
    "a @ b"
   ]
  },
  {
   "cell_type": "markdown",
   "metadata": {},
   "source": [
    "### 벡터 가중합\n",
    "벡터의 내적은 가중합을 계산할 때 쓰일 수 있습니다. **가중합(weighted sum)**이란 복수의 데이터를 단순히 합하는 것이 아니라 각각의 수에 어떤 가중치 값을 곱한 후 이 곱셈 결과들을 다시 합한 것을 말합니다.  \n",
    "데이터 벡터가 $x=[x_1, \\cdots, x_N]^T$이고 가중치 벡터가 $w=[w_1, \\cdots, w_N]^T$이면 데이터 벡터의 가중합은 다음과 같습니다.\n",
    "\n",
    "$$ \n",
    "\\begin{align}\n",
    "w_1 x_1 + \\cdots + w_N x_N = \\sum_{i=1}^N w_i x_i \n",
    "\\end{align}\n",
    "$$ \n",
    "\n",
    "이 값을 벡터 $x$와 $w$의 곱으로 나타내면 $w^Tx$ 또는 $x^Tw$ 라는 간단한 수식으로 표시할 수 있습니다.  \n",
    "쇼핑을 할 때 각 물건의 가격은 데이터 벡터, 각 물건의 수량은 가중치로 생각하여 내적을 구하면 총금액을 계산할 수 있습니다."
   ]
  },
  {
   "cell_type": "code",
   "execution_count": 10,
   "metadata": {
    "ExecuteTime": {
     "end_time": "2022-04-22T01:31:43.890146Z",
     "start_time": "2022-04-22T01:31:43.880699Z"
    }
   },
   "outputs": [
    {
     "data": {
      "text/plain": [
       "24100000"
      ]
     },
     "execution_count": 10,
     "metadata": {},
     "output_type": "execute_result"
    }
   ],
   "source": [
    "# 벡터의 가중합 연습문제\n",
    "# 삼성전자, 셀트리온, 카카오로 포트폴리오를 구성하려한다. \n",
    "# 각 종목의 가격은 80,000원, 270,000원, 160,000원이다.\n",
    "# 삼성전자 100주, 셀트리온 30주, 카카오 50주로 구성하기 위한 매수금액을 구하시오\n",
    "# (80000 * 100) + (270000 * 30) + (160000 * 50)\n",
    "stock = np.array([100, 30, 50])\n",
    "price = np.array([80000, 270000, 160000])\n",
    "stock @ price"
   ]
  },
  {
   "cell_type": "markdown",
   "metadata": {
    "slideshow": {
     "slide_type": "slide"
    }
   },
   "source": [
    "## array 인덱싱, 슬라이싱(매우중요)\n",
    "> 기본적으로 자료구조란 데이터의 묶음, 그 묶음을 관리 할 수 있는 바구니를 이야기 합니다.  \n",
    "데이터 분석을 위해 자료구조를 사용하지만 자료구조안 내용에 접근을 해야 할 경우도 있습니다.\n",
    ">> **인덱싱**이란?  \n",
    "데이터 바구니 안에 든 내용 하나에 접근하는 명령, 인덱스는 내용의 순번  \n",
    ">> **슬라이싱**이란?  \n",
    "데이터 바구니 안에 든 내용 여러가지에 접근 하는 명령  \n",
    "\n",
    "기본적으로 인덱싱과 슬라이싱의 색인은 리스트와 동일합니다."
   ]
  },
  {
   "cell_type": "markdown",
   "metadata": {},
   "source": [
    "### 인덱싱, 슬라이싱 실습"
   ]
  },
  {
   "cell_type": "code",
   "execution_count": 11,
   "metadata": {
    "ExecuteTime": {
     "end_time": "2022-04-22T01:32:52.065183Z",
     "start_time": "2022-04-22T01:32:52.056773Z"
    }
   },
   "outputs": [
    {
     "data": {
      "text/plain": [
       "array([10, 11, 12, 13, 14, 15, 16, 17, 18, 19])"
      ]
     },
     "execution_count": 11,
     "metadata": {},
     "output_type": "execute_result"
    }
   ],
   "source": [
    "# 10부터 19까지 범위를 가지는 array생성\n",
    "index_test = np.arange(10, 20)\n",
    "index_test"
   ]
  },
  {
   "cell_type": "code",
   "execution_count": 13,
   "metadata": {
    "ExecuteTime": {
     "end_time": "2022-04-22T01:35:24.846744Z",
     "start_time": "2022-04-22T01:35:24.835048Z"
    }
   },
   "outputs": [
    {
     "data": {
      "text/plain": [
       "array([10, 11, 12, 13])"
      ]
     },
     "execution_count": 13,
     "metadata": {},
     "output_type": "execute_result"
    }
   ],
   "source": [
    "# 0부터 3번 인덱스까지\n",
    "index_test[:4]"
   ]
  },
  {
   "cell_type": "code",
   "execution_count": 14,
   "metadata": {
    "ExecuteTime": {
     "end_time": "2022-04-22T01:35:50.782197Z",
     "start_time": "2022-04-22T01:35:50.772915Z"
    }
   },
   "outputs": [
    {
     "data": {
      "text/plain": [
       "array([14, 15, 16, 17, 18, 19])"
      ]
     },
     "execution_count": 14,
     "metadata": {},
     "output_type": "execute_result"
    }
   ],
   "source": [
    "# 4번 인덱스부터 마지막 인덱스까지\n",
    "index_test[4:]"
   ]
  },
  {
   "cell_type": "code",
   "execution_count": 16,
   "metadata": {
    "ExecuteTime": {
     "end_time": "2022-04-22T01:36:14.790094Z",
     "start_time": "2022-04-22T01:36:14.778788Z"
    }
   },
   "outputs": [
    {
     "data": {
      "text/plain": [
       "array([19, 18, 17])"
      ]
     },
     "execution_count": 16,
     "metadata": {},
     "output_type": "execute_result"
    }
   ],
   "source": [
    "# 마지막 인덱스부터 뒤에서 3번째 인덱스까지\n",
    "index_test[-1:-4:-1]"
   ]
  },
  {
   "cell_type": "code",
   "execution_count": 17,
   "metadata": {
    "ExecuteTime": {
     "end_time": "2022-04-22T01:36:33.461792Z",
     "start_time": "2022-04-22T01:36:33.451980Z"
    }
   },
   "outputs": [
    {
     "data": {
      "text/plain": [
       "array([10, 13, 16, 19])"
      ]
     },
     "execution_count": 17,
     "metadata": {},
     "output_type": "execute_result"
    }
   ],
   "source": [
    "# 0부터 3씩 증가하는 인덱스\n",
    "index_test[::3]"
   ]
  },
  {
   "cell_type": "markdown",
   "metadata": {
    "slideshow": {
     "slide_type": "subslide"
    }
   },
   "source": [
    "### 여러가지 인덱싱 및 슬라이싱 방법을 시도해봅시다"
   ]
  },
  {
   "cell_type": "code",
   "execution_count": 18,
   "metadata": {
    "ExecuteTime": {
     "end_time": "2022-04-22T01:36:55.537631Z",
     "start_time": "2022-04-22T01:36:55.525450Z"
    }
   },
   "outputs": [
    {
     "data": {
      "text/plain": [
       "array([[ 0,  1,  2,  3,  4],\n",
       "       [ 5,  6,  7,  8,  9],\n",
       "       [10, 11, 12, 13, 14],\n",
       "       [15, 16, 17, 18, 19],\n",
       "       [20, 21, 22, 23, 24]])"
      ]
     },
     "execution_count": 18,
     "metadata": {},
     "output_type": "execute_result"
    }
   ],
   "source": [
    "# 인덱싱 테스트 array 생성\n",
    "index_test2 = np.array(range(25)).reshape([5, 5])\n",
    "index_test2"
   ]
  },
  {
   "cell_type": "code",
   "execution_count": 20,
   "metadata": {
    "ExecuteTime": {
     "end_time": "2022-04-22T01:38:02.926656Z",
     "start_time": "2022-04-22T01:38:02.919287Z"
    }
   },
   "outputs": [
    {
     "data": {
      "text/plain": [
       "array([[11, 12, 13],\n",
       "       [16, 17, 18],\n",
       "       [21, 22, 23]])"
      ]
     },
     "execution_count": 20,
     "metadata": {},
     "output_type": "execute_result"
    }
   ],
   "source": [
    "# 아래 슬라이싱 결과와 같게 코드를 입력해보세요\n",
    "index_test2[2:, 1:4]"
   ]
  },
  {
   "cell_type": "code",
   "execution_count": 3,
   "metadata": {
    "ExecuteTime": {
     "end_time": "2021-09-30T10:07:59.655570Z",
     "start_time": "2021-09-30T10:07:59.651351Z"
    }
   },
   "outputs": [
    {
     "data": {
      "text/plain": [
       "array([[11, 12, 13],\n",
       "       [16, 17, 18],\n",
       "       [21, 22, 23]])"
      ]
     },
     "execution_count": 3,
     "metadata": {},
     "output_type": "execute_result"
    }
   ],
   "source": []
  },
  {
   "cell_type": "code",
   "execution_count": 23,
   "metadata": {
    "ExecuteTime": {
     "end_time": "2022-04-22T01:42:06.018238Z",
     "start_time": "2022-04-22T01:42:05.996427Z"
    }
   },
   "outputs": [
    {
     "data": {
      "text/plain": [
       "array([[2, 3, 4],\n",
       "       [7, 8, 9]])"
      ]
     },
     "execution_count": 23,
     "metadata": {},
     "output_type": "execute_result"
    }
   ],
   "source": [
    "# 아래 슬라이싱 결과와 같게 코드를 입력해보세요\n",
    "index_test2[:2, 2:]"
   ]
  },
  {
   "cell_type": "code",
   "execution_count": 4,
   "metadata": {
    "ExecuteTime": {
     "end_time": "2021-09-30T10:08:00.840089Z",
     "start_time": "2021-09-30T10:08:00.835731Z"
    },
    "slideshow": {
     "slide_type": "fragment"
    }
   },
   "outputs": [
    {
     "data": {
      "text/plain": [
       "array([[2, 3, 4],\n",
       "       [7, 8, 9]])"
      ]
     },
     "execution_count": 4,
     "metadata": {},
     "output_type": "execute_result"
    }
   ],
   "source": []
  },
  {
   "cell_type": "code",
   "execution_count": 27,
   "metadata": {
    "ExecuteTime": {
     "end_time": "2022-04-22T01:42:33.668812Z",
     "start_time": "2022-04-22T01:42:33.661279Z"
    }
   },
   "outputs": [
    {
     "data": {
      "text/plain": [
       "array([ 1,  6, 11, 16, 21])"
      ]
     },
     "execution_count": 27,
     "metadata": {},
     "output_type": "execute_result"
    }
   ],
   "source": [
    "# 아래 슬라이싱 결과와 같게 코드를 입력해보세요\n",
    "index_test2[:, 1]"
   ]
  },
  {
   "cell_type": "code",
   "execution_count": 6,
   "metadata": {
    "ExecuteTime": {
     "end_time": "2021-09-30T10:09:08.554090Z",
     "start_time": "2021-09-30T10:09:08.550075Z"
    }
   },
   "outputs": [
    {
     "data": {
      "text/plain": [
       "array([ 1,  6, 11, 16, 21])"
      ]
     },
     "execution_count": 6,
     "metadata": {},
     "output_type": "execute_result"
    }
   ],
   "source": []
  },
  {
   "cell_type": "code",
   "execution_count": 28,
   "metadata": {
    "ExecuteTime": {
     "end_time": "2022-04-22T01:42:59.769899Z",
     "start_time": "2022-04-22T01:42:59.762678Z"
    }
   },
   "outputs": [
    {
     "data": {
      "text/plain": [
       "array([[[ 0,  1,  2,  3],\n",
       "        [ 4,  5,  6,  7],\n",
       "        [ 8,  9, 10, 11],\n",
       "        [12, 13, 14, 15],\n",
       "        [16, 17, 18, 19]],\n",
       "\n",
       "       [[20, 21, 22, 23],\n",
       "        [24, 25, 26, 27],\n",
       "        [28, 29, 30, 31],\n",
       "        [32, 33, 34, 35],\n",
       "        [36, 37, 38, 39]]])"
      ]
     },
     "execution_count": 28,
     "metadata": {},
     "output_type": "execute_result"
    }
   ],
   "source": [
    "index_test3 = np.arange(40).reshape(2, 5, 4)\n",
    "index_test3"
   ]
  },
  {
   "cell_type": "code",
   "execution_count": null,
   "metadata": {},
   "outputs": [],
   "source": [
    "# 아래 슬라이싱 결과와 같게 코드를 입력해보세요"
   ]
  },
  {
   "cell_type": "code",
   "execution_count": 8,
   "metadata": {
    "ExecuteTime": {
     "end_time": "2021-09-30T10:09:27.573403Z",
     "start_time": "2021-09-30T10:09:27.568936Z"
    }
   },
   "outputs": [
    {
     "data": {
      "text/plain": [
       "array([[13, 14],\n",
       "       [17, 18]])"
      ]
     },
     "execution_count": 8,
     "metadata": {},
     "output_type": "execute_result"
    }
   ],
   "source": []
  },
  {
   "cell_type": "code",
   "execution_count": 34,
   "metadata": {
    "ExecuteTime": {
     "end_time": "2022-04-22T01:44:12.523613Z",
     "start_time": "2022-04-22T01:44:12.511652Z"
    }
   },
   "outputs": [
    {
     "data": {
      "text/plain": [
       "array([[[ 8,  9, 10],\n",
       "        [12, 13, 14],\n",
       "        [16, 17, 18]],\n",
       "\n",
       "       [[28, 29, 30],\n",
       "        [32, 33, 34],\n",
       "        [36, 37, 38]]])"
      ]
     },
     "execution_count": 34,
     "metadata": {},
     "output_type": "execute_result"
    }
   ],
   "source": [
    "# 아래 슬라이싱 결과와 같게 코드를 입력해보세요\n",
    "index_test3[:, 2:, :3]"
   ]
  },
  {
   "cell_type": "code",
   "execution_count": 12,
   "metadata": {
    "ExecuteTime": {
     "end_time": "2021-09-30T10:12:05.975572Z",
     "start_time": "2021-09-30T10:12:05.971208Z"
    }
   },
   "outputs": [
    {
     "data": {
      "text/plain": [
       "array([[[ 8,  9, 10],\n",
       "        [12, 13, 14],\n",
       "        [16, 17, 18]],\n",
       "\n",
       "       [[28, 29, 30],\n",
       "        [32, 33, 34],\n",
       "        [36, 37, 38]]])"
      ]
     },
     "execution_count": 12,
     "metadata": {},
     "output_type": "execute_result"
    }
   ],
   "source": []
  },
  {
   "cell_type": "code",
   "execution_count": null,
   "metadata": {},
   "outputs": [],
   "source": [
    "# 아래 슬라이싱 결과와 같게 코드를 입력해보세요"
   ]
  },
  {
   "cell_type": "code",
   "execution_count": 9,
   "metadata": {
    "ExecuteTime": {
     "end_time": "2021-09-30T10:09:28.043744Z",
     "start_time": "2021-09-30T10:09:28.039181Z"
    }
   },
   "outputs": [
    {
     "data": {
      "text/plain": [
       "array([[ 1,  5,  9, 13, 17],\n",
       "       [21, 25, 29, 33, 37]])"
      ]
     },
     "execution_count": 9,
     "metadata": {},
     "output_type": "execute_result"
    }
   ],
   "source": []
  },
  {
   "cell_type": "markdown",
   "metadata": {},
   "source": [
    "## 팬시인덱싱\n",
    "numpy에서 벡터연산을 통해 bool 형태의 벡터를 기준으로 데이터를 선별하는 방법"
   ]
  },
  {
   "cell_type": "code",
   "execution_count": 35,
   "metadata": {
    "ExecuteTime": {
     "end_time": "2022-04-22T01:45:15.845333Z",
     "start_time": "2022-04-22T01:45:15.834727Z"
    }
   },
   "outputs": [
    {
     "data": {
      "text/plain": [
       "array([[ 0.06315717,  0.39569042,  2.28428419, -0.09557406,  0.06362726],\n",
       "       [ 0.46515687, -0.50538516,  0.26611631,  0.34021295, -0.72817848],\n",
       "       [-0.04715019, -0.6053808 , -0.86166059, -0.05517848,  1.08109043],\n",
       "       [ 0.03216648,  1.25720667, -0.06504194, -1.22852711, -0.74558882],\n",
       "       [-0.62716448, -0.8912934 ,  2.05199861, -0.13327507,  0.02555632],\n",
       "       [ 0.93426453, -0.53809127,  0.20976582,  0.08855179,  0.06801076]])"
      ]
     },
     "execution_count": 35,
     "metadata": {},
     "output_type": "execute_result"
    }
   ],
   "source": [
    "# 테스트 array 생성\n",
    "pet = np.array(['개', '고양이', '고양이', '햄스터', '개', '햄스터'])\n",
    "num = np.array([1, 2, 3, 4, 5, 6])\n",
    "indexing_test = np.random.randn(6, 5)\n",
    "indexing_test"
   ]
  },
  {
   "cell_type": "code",
   "execution_count": 36,
   "metadata": {
    "ExecuteTime": {
     "end_time": "2022-04-22T01:45:52.124395Z",
     "start_time": "2022-04-22T01:45:52.118173Z"
    }
   },
   "outputs": [
    {
     "data": {
      "text/plain": [
       "array([False, False, False,  True,  True,  True])"
      ]
     },
     "execution_count": 36,
     "metadata": {},
     "output_type": "execute_result"
    }
   ],
   "source": [
    "# num array 조건연산\n",
    "num > 3"
   ]
  },
  {
   "cell_type": "code",
   "execution_count": 37,
   "metadata": {
    "ExecuteTime": {
     "end_time": "2022-04-22T01:46:48.597672Z",
     "start_time": "2022-04-22T01:46:48.584055Z"
    }
   },
   "outputs": [
    {
     "data": {
      "text/plain": [
       "array([False,  True,  True, False, False, False])"
      ]
     },
     "execution_count": 37,
     "metadata": {},
     "output_type": "execute_result"
    }
   ],
   "source": [
    "# pet array 조건연산\n",
    "pet == '고양이'"
   ]
  },
  {
   "cell_type": "code",
   "execution_count": 39,
   "metadata": {
    "ExecuteTime": {
     "end_time": "2022-04-22T01:48:08.138275Z",
     "start_time": "2022-04-22T01:48:08.123562Z"
    }
   },
   "outputs": [
    {
     "data": {
      "text/plain": [
       "array([[ 0.46515687, -0.50538516,  0.26611631,  0.34021295, -0.72817848],\n",
       "       [-0.04715019, -0.6053808 , -0.86166059, -0.05517848,  1.08109043]])"
      ]
     },
     "execution_count": 39,
     "metadata": {},
     "output_type": "execute_result"
    }
   ],
   "source": [
    "# 팬시인덱스 전달\n",
    "indexing_test[pet == '고양이']"
   ]
  },
  {
   "cell_type": "code",
   "execution_count": 45,
   "metadata": {
    "ExecuteTime": {
     "end_time": "2022-04-22T01:50:20.508568Z",
     "start_time": "2022-04-22T01:50:20.494232Z"
    }
   },
   "outputs": [
    {
     "data": {
      "text/plain": [
       "False"
      ]
     },
     "execution_count": 45,
     "metadata": {},
     "output_type": "execute_result"
    }
   ],
   "source": [
    "# 조건연산 추가 sum, any, all\n",
    "(num > 3).sum()\n",
    "(num > 3).any()\n",
    "(num > 3).all()"
   ]
  }
 ],
 "metadata": {
  "kernelspec": {
   "display_name": "Python 3 (ipykernel)",
   "language": "python",
   "name": "python3"
  },
  "language_info": {
   "codemirror_mode": {
    "name": "ipython",
    "version": 3
   },
   "file_extension": ".py",
   "mimetype": "text/x-python",
   "name": "python",
   "nbconvert_exporter": "python",
   "pygments_lexer": "ipython3",
   "version": "3.8.12"
  },
  "toc": {
   "base_numbering": 1,
   "nav_menu": {},
   "number_sections": true,
   "sideBar": true,
   "skip_h1_title": true,
   "title_cell": "Table of Contents",
   "title_sidebar": "Contents",
   "toc_cell": false,
   "toc_position": {},
   "toc_section_display": true,
   "toc_window_display": false
  },
  "varInspector": {
   "cols": {
    "lenName": 16,
    "lenType": 16,
    "lenVar": 40
   },
   "kernels_config": {
    "python": {
     "delete_cmd_postfix": "",
     "delete_cmd_prefix": "del ",
     "library": "var_list.py",
     "varRefreshCmd": "print(var_dic_list())"
    },
    "r": {
     "delete_cmd_postfix": ") ",
     "delete_cmd_prefix": "rm(",
     "library": "var_list.r",
     "varRefreshCmd": "cat(var_dic_list()) "
    }
   },
   "types_to_exclude": [
    "module",
    "function",
    "builtin_function_or_method",
    "instance",
    "_Feature"
   ],
   "window_display": false
  }
 },
 "nbformat": 4,
 "nbformat_minor": 2
}
