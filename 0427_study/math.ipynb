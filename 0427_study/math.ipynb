{
 "cells": [
  {
   "cell_type": "code",
   "execution_count": 5,
   "metadata": {},
   "outputs": [
    {
     "name": "stdout",
     "output_type": "stream",
     "text": [
      "[49, 51, 47, 50, 48]\n",
      "[45, 41, 82, 38, 66, 44, 49, 58, 50, 52, 55, 53, 49, 51, 44, 20, 54, 41, 58, 47, 66, 39, 60, 39, 35, 16, 65, 61, 55, 34]\n"
     ]
    }
   ],
   "source": [
    "import random  as r\n",
    "\n",
    "score1 = []\n",
    "score2 = []\n",
    "score3 = []\n",
    "score4 = []\n",
    "score5 = []\n",
    "\n",
    "for i in range(30):\n",
    "    score1.append(r.randint(1, 100))\n",
    "    score2.append(r.randint(1, 100))\n",
    "    score3.append(r.randint(1, 100))\n",
    "    score4.append(r.randint(1, 100))\n",
    "    score5.append(r.randint(1, 100))\n",
    "\n",
    "s1_mean = int(sum(score1) / 30)\n",
    "s2_mean = int(sum(score2) / 30)\n",
    "s3_mean = int(sum(score3) / 30)\n",
    "s4_mean = int(sum(score4) / 30)\n",
    "s5_mean = int(sum(score5) / 30)\n",
    "\n",
    "average_score_by_subject = [s1_mean, s2_mean, s3_mean, s4_mean, s5_mean]\n",
    "average_score_by_student = []\n",
    "for i in range(30):\n",
    "    temp = int((score1[i]+score2[i]+score3[i]+score4[i]+score5[i]) / 5)\n",
    "    average_score_by_student.append(temp)\n",
    "\n",
    "print(average_score_by_subject)\n",
    "print(average_score_by_student)"
   ]
  },
  {
   "cell_type": "code",
   "execution_count": 6,
   "metadata": {},
   "outputs": [
    {
     "data": {
      "text/plain": [
       "10"
      ]
     },
     "execution_count": 6,
     "metadata": {},
     "output_type": "execute_result"
    }
   ],
   "source": [
    "lst = [5,8,9,7,10,3,0]\n",
    "\n",
    "def max_element_index(lst):\n",
    "    return max(lst)\n",
    "\n",
    "max_element_index(lst)"
   ]
  },
  {
   "cell_type": "code",
   "execution_count": 9,
   "metadata": {},
   "outputs": [
    {
     "name": "stdout",
     "output_type": "stream",
     "text": [
      "[3]\n",
      "[3, 2]\n"
     ]
    }
   ],
   "source": [
    "def max_n(lst, n=1):\n",
    "    temp = []\n",
    "    for i in range(n):\n",
    "        temp.append(max(lst))\n",
    "        lst.remove(max(lst))\n",
    "    return temp\n",
    "print(max_n([1,2,3]))\n",
    "print(max_n([1,2,3], 2))"
   ]
  },
  {
   "cell_type": "code",
   "execution_count": 13,
   "metadata": {},
   "outputs": [
    {
     "name": "stdout",
     "output_type": "stream",
     "text": [
      "2\n",
      "2.5\n"
     ]
    }
   ],
   "source": [
    "def median(lst):\n",
    "    if len(lst) % 2 != 0:\n",
    "        return (lst[int(len(lst)/2)])\n",
    "    else :\n",
    "        return ((lst[int(len(lst)/2)] + lst[int(len(lst)/2)-1])/2)\n",
    "\n",
    "print(median([1,2,3]))\n",
    "print(median([1,2,3,4]))"
   ]
  },
  {
   "cell_type": "code",
   "execution_count": 17,
   "metadata": {},
   "outputs": [
    {
     "name": "stdout",
     "output_type": "stream",
     "text": [
      "========================hi========================\n"
     ]
    }
   ],
   "source": [
    "w = 'hi'\n",
    "print(w.center(50, '='))"
   ]
  },
  {
   "cell_type": "code",
   "execution_count": 19,
   "metadata": {},
   "outputs": [
    {
     "name": "stdout",
     "output_type": "stream",
     "text": [
      "Hello world\n"
     ]
    }
   ],
   "source": [
    "s = \"hello world\"\n",
    "\n",
    "def capitalize_every_word(s):\n",
    "    return s.capitalize()\n",
    "print(capitalize_every_word(s))"
   ]
  },
  {
   "cell_type": "code",
   "execution_count": null,
   "metadata": {},
   "outputs": [],
   "source": []
  }
 ],
 "metadata": {
  "interpreter": {
   "hash": "51c34fa36eff769e6a148bf3054affc242b13740e4cb5cb23f0c7ec4f019dfc6"
  },
  "kernelspec": {
   "display_name": "Python 3.9.7 ('base')",
   "language": "python",
   "name": "python3"
  },
  "language_info": {
   "codemirror_mode": {
    "name": "ipython",
    "version": 3
   },
   "file_extension": ".py",
   "mimetype": "text/x-python",
   "name": "python",
   "nbconvert_exporter": "python",
   "pygments_lexer": "ipython3",
   "version": "3.9.7"
  },
  "orig_nbformat": 4
 },
 "nbformat": 4,
 "nbformat_minor": 2
}
